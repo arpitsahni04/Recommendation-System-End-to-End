{
 "cells": [
  {
   "cell_type": "code",
   "execution_count": 20,
   "metadata": {},
   "outputs": [],
   "source": [
    "import pandas as pd\n",
    "import numpy as np\n",
    "import os\n",
    "from tqdm import tqdm"
   ]
  },
  {
   "cell_type": "markdown",
   "metadata": {},
   "source": [
    "## sample"
   ]
  },
  {
   "cell_type": "code",
   "execution_count": null,
   "metadata": {},
   "outputs": [],
   "source": [
    "data = pd.read_csv(\"kafka_log_sample.csv\", names=[\"Time\", \"user_id\", \"text\"])\n",
    "data_watch = data.loc[data.text.str.startswith(\"GET /data/\")]\n",
    "data_rate = data.loc[data.text.str.startswith(\"GET /rate/\")]"
   ]
  },
  {
   "cell_type": "code",
   "execution_count": null,
   "metadata": {},
   "outputs": [],
   "source": [
    "def get_rate(x):\n",
    "    tmp = x[\"text\"].split(\"/\")[-1].split(\"=\")\n",
    "    x[\"movie_id\"] = tmp[0]\n",
    "    x[\"rate\"] = tmp[1]\n",
    "    return x\n",
    "\n",
    "data_rate = data_rate.apply(get_rate, axis=1)"
   ]
  },
  {
   "cell_type": "code",
   "execution_count": null,
   "metadata": {},
   "outputs": [],
   "source": [
    "np.savetxt(\"movie_id_sample.txt\", data_rate.movie_id.unique(), fmt=\"%s\")\n",
    "np.savetxt(\"user_id_sample.txt\", data_rate.user_id.unique(), fmt=\"%d\")"
   ]
  },
  {
   "cell_type": "markdown",
   "metadata": {},
   "source": [
    "## data_v1"
   ]
  },
  {
   "cell_type": "code",
   "execution_count": 2,
   "metadata": {
    "collapsed": true
   },
   "outputs": [
    {
     "name": "stdout",
     "output_type": "stream",
     "text": [
      "(6895, 3)\n",
      "(13940, 3)\n",
      "(20846, 3)\n",
      "(27958, 3)\n",
      "(33965, 3)\n",
      "(39928, 3)\n",
      "(46635, 3)\n",
      "(51893, 3)\n",
      "(58014, 3)\n",
      "(64145, 3)\n",
      "(70293, 3)\n",
      "(76502, 3)\n",
      "(78835, 3)\n",
      "(85176, 3)\n",
      "(91272, 3)\n",
      "(97196, 3)\n",
      "(103269, 3)\n",
      "(109278, 3)\n"
     ]
    }
   ],
   "source": [
    "data_rate = pd.DataFrame()\n",
    "\n",
    "for f in os.listdir(\"data_0210/\"):\n",
    "    data = pd.read_csv(\"data_0210/\"+f, names=[\"Time\", \"user_id\", \"text\"])\n",
    "    data_rate_tmp = data.loc[data.text.str.startswith(\"GET /rate/\")]\n",
    "    data_rate = pd.concat([data_rate, data_rate_tmp], ignore_index=True)\n",
    "    print(data_rate.shape)"
   ]
  },
  {
   "cell_type": "code",
   "execution_count": 3,
   "metadata": {},
   "outputs": [
    {
     "name": "stderr",
     "output_type": "stream",
     "text": [
      "100%|███████████████████████████████████████████████| 109278/109278 [00:38<00:00, 2828.13it/s]\n"
     ]
    }
   ],
   "source": [
    "tqdm.pandas()\n",
    "\n",
    "def get_rate(x):\n",
    "    tmp = x[\"text\"].split(\"/\")[-1].split(\"=\")\n",
    "    x[\"movie_id\"] = tmp[0]\n",
    "    x[\"rate\"] = tmp[1]\n",
    "    return x\n",
    "\n",
    "data_rate = data_rate.progress_apply(get_rate, axis=1)"
   ]
  },
  {
   "cell_type": "code",
   "execution_count": 5,
   "metadata": {},
   "outputs": [],
   "source": [
    "data_rate.to_csv(\"processed_data/ratings_v1.csv\", index=False)"
   ]
  },
  {
   "cell_type": "code",
   "execution_count": 12,
   "metadata": {},
   "outputs": [
    {
     "data": {
      "text/plain": [
       "101347"
      ]
     },
     "execution_count": 12,
     "metadata": {},
     "output_type": "execute_result"
    }
   ],
   "source": [
    "len(data_rate.user_id.unique())"
   ]
  },
  {
   "cell_type": "code",
   "execution_count": 16,
   "metadata": {},
   "outputs": [
    {
     "data": {
      "text/plain": [
       "23034"
      ]
     },
     "execution_count": 16,
     "metadata": {},
     "output_type": "execute_result"
    }
   ],
   "source": [
    "len(data_rate.movie_id.unique())"
   ]
  },
  {
   "cell_type": "code",
   "execution_count": 15,
   "metadata": {},
   "outputs": [],
   "source": [
    "# user: 101347\n",
    "# movie: 23034\n",
    "np.savetxt(\"processed_data/movie_id_v1.txt\", data_rate.movie_id.unique(), fmt=\"%s\")\n",
    "np.savetxt(\"processed_data/user_id_v1.txt\", data_rate.user_id.unique(), fmt=\"%d\")"
   ]
  },
  {
   "cell_type": "markdown",
   "metadata": {},
   "source": [
    "## data_v2: large file"
   ]
  },
  {
   "cell_type": "code",
   "execution_count": 3,
   "metadata": {
    "collapsed": true
   },
   "outputs": [
    {
     "name": "stdout",
     "output_type": "stream",
     "text": [
      "(6760, 3)\n",
      "(13425, 3)\n",
      "(20178, 3)\n",
      "(26912, 3)\n",
      "(33823, 3)\n",
      "(40983, 3)\n",
      "(47943, 3)\n",
      "(54759, 3)\n",
      "(61872, 3)\n",
      "(68822, 3)\n",
      "(75596, 3)\n",
      "(82666, 3)\n",
      "(89525, 3)\n",
      "(96520, 3)\n",
      "(103401, 3)\n",
      "(110568, 3)\n",
      "(117727, 3)\n",
      "(124905, 3)\n",
      "(132182, 3)\n",
      "(139326, 3)\n",
      "(146439, 3)\n",
      "(153492, 3)\n",
      "(160430, 3)\n",
      "(167555, 3)\n",
      "(174609, 3)\n",
      "(181384, 3)\n",
      "(188242, 3)\n",
      "(195070, 3)\n",
      "(201598, 3)\n",
      "(207996, 3)\n",
      "(214240, 3)\n",
      "(220546, 3)\n",
      "(226655, 3)\n",
      "(232656, 3)\n",
      "(238695, 3)\n",
      "(244617, 3)\n",
      "(250696, 3)\n",
      "(256753, 3)\n",
      "(262754, 3)\n",
      "(268632, 3)\n",
      "(274634, 3)\n",
      "(280623, 3)\n",
      "(286489, 3)\n",
      "(292338, 3)\n",
      "(298329, 3)\n",
      "(304291, 3)\n",
      "(310223, 3)\n",
      "(316301, 3)\n",
      "(322387, 3)\n",
      "(328534, 3)\n",
      "(334738, 3)\n",
      "(340920, 3)\n",
      "(347031, 3)\n",
      "(353221, 3)\n",
      "(359542, 3)\n",
      "(365693, 3)\n",
      "(371912, 3)\n",
      "(378172, 3)\n",
      "(384566, 3)\n",
      "(390841, 3)\n",
      "(397071, 3)\n",
      "(403395, 3)\n",
      "(409773, 3)\n",
      "(416266, 3)\n",
      "(422786, 3)\n",
      "(429244, 3)\n",
      "(435764, 3)\n",
      "(442447, 3)\n",
      "(448989, 3)\n",
      "(455501, 3)\n",
      "(462092, 3)\n",
      "(468754, 3)\n",
      "(475352, 3)\n",
      "(481970, 3)\n",
      "(488662, 3)\n",
      "(495326, 3)\n",
      "(501977, 3)\n",
      "(508784, 3)\n",
      "(515505, 3)\n",
      "(522410, 3)\n",
      "(529284, 3)\n",
      "(536117, 3)\n",
      "(542976, 3)\n",
      "(549812, 3)\n",
      "(556908, 3)\n",
      "(563837, 3)\n",
      "(570806, 3)\n",
      "(577806, 3)\n",
      "(584867, 3)\n",
      "(591942, 3)\n",
      "(599101, 3)\n",
      "(606342, 3)\n",
      "(613497, 3)\n",
      "(620719, 3)\n",
      "(627860, 3)\n",
      "(634927, 3)\n",
      "(641960, 3)\n",
      "(649015, 3)\n",
      "(656106, 3)\n",
      "(663071, 3)\n",
      "(670105, 3)\n",
      "(676988, 3)\n",
      "(683550, 3)\n",
      "(690246, 3)\n",
      "(696810, 3)\n",
      "(703173, 3)\n",
      "(709496, 3)\n",
      "(715493, 3)\n",
      "(721419, 3)\n",
      "(727400, 3)\n",
      "(733429, 3)\n",
      "(739399, 3)\n",
      "(745248, 3)\n",
      "(751324, 3)\n",
      "(757103, 3)\n",
      "(763082, 3)\n",
      "(769092, 3)\n",
      "(775045, 3)\n",
      "(780988, 3)\n",
      "(786956, 3)\n",
      "(792828, 3)\n",
      "(798753, 3)\n",
      "(804750, 3)\n",
      "(810715, 3)\n",
      "(816803, 3)\n",
      "(822832, 3)\n",
      "(828972, 3)\n",
      "(835193, 3)\n",
      "(841358, 3)\n",
      "(847602, 3)\n",
      "(853805, 3)\n",
      "(859840, 3)\n",
      "(866209, 3)\n",
      "(872490, 3)\n",
      "(878822, 3)\n",
      "(885143, 3)\n",
      "(891451, 3)\n",
      "(897888, 3)\n",
      "(904284, 3)\n",
      "(910766, 3)\n",
      "(917208, 3)\n",
      "(923705, 3)\n",
      "(930201, 3)\n",
      "(936727, 3)\n",
      "(943393, 3)\n",
      "(949942, 3)\n",
      "(956574, 3)\n",
      "(963247, 3)\n",
      "(969831, 3)\n",
      "(976573, 3)\n",
      "(983294, 3)\n",
      "(989984, 3)\n",
      "(996728, 3)\n",
      "(1003392, 3)\n",
      "(1010255, 3)\n",
      "(1017029, 3)\n",
      "(1023955, 3)\n",
      "(1030681, 3)\n",
      "(1037595, 3)\n",
      "(1044658, 3)\n",
      "(1051635, 3)\n",
      "(1058702, 3)\n",
      "(1065688, 3)\n",
      "(1072668, 3)\n",
      "(1079719, 3)\n",
      "(1086717, 3)\n",
      "(1093833, 3)\n",
      "(1100937, 3)\n",
      "(1108102, 3)\n",
      "(1115286, 3)\n",
      "(1122342, 3)\n",
      "(1129462, 3)\n",
      "(1136633, 3)\n",
      "(1143789, 3)\n",
      "(1150859, 3)\n",
      "(1157712, 3)\n",
      "(1164618, 3)\n",
      "(1171443, 3)\n",
      "(1178217, 3)\n",
      "(1184872, 3)\n",
      "(1191318, 3)\n",
      "(1197675, 3)\n",
      "(1203887, 3)\n",
      "(1210005, 3)\n",
      "(1216032, 3)\n",
      "(1222078, 3)\n",
      "(1228004, 3)\n",
      "(1233921, 3)\n",
      "(1239899, 3)\n",
      "(1245845, 3)\n",
      "(1251889, 3)\n",
      "(1257697, 3)\n",
      "(1263557, 3)\n",
      "(1269483, 3)\n",
      "(1275308, 3)\n",
      "(1281219, 3)\n",
      "(1287280, 3)\n",
      "(1293262, 3)\n",
      "(1299310, 3)\n",
      "(1305473, 3)\n",
      "(1311410, 3)\n",
      "(1317499, 3)\n",
      "(1323591, 3)\n",
      "(1329827, 3)\n",
      "(1336023, 3)\n",
      "(1342099, 3)\n",
      "(1348268, 3)\n",
      "(1354516, 3)\n",
      "(1360849, 3)\n",
      "(1367087, 3)\n",
      "(1373329, 3)\n",
      "(1379775, 3)\n",
      "(1386062, 3)\n",
      "(1392434, 3)\n",
      "(1398924, 3)\n",
      "(1405358, 3)\n",
      "(1411768, 3)\n",
      "(1418427, 3)\n",
      "(1424972, 3)\n",
      "(1431472, 3)\n",
      "(1437954, 3)\n",
      "(1444469, 3)\n",
      "(1451099, 3)\n",
      "(1457619, 3)\n",
      "(1464329, 3)\n",
      "(1471007, 3)\n",
      "(1477762, 3)\n",
      "(1484413, 3)\n",
      "(1491163, 3)\n",
      "(1497978, 3)\n",
      "(1504857, 3)\n",
      "(1511734, 3)\n",
      "(1518670, 3)\n",
      "(1525410, 3)\n",
      "(1532386, 3)\n",
      "(1539315, 3)\n",
      "(1546403, 3)\n",
      "(1553532, 3)\n",
      "(1560449, 3)\n",
      "(1567509, 3)\n",
      "(1574572, 3)\n",
      "(1581618, 3)\n",
      "(1588634, 3)\n",
      "(1595799, 3)\n",
      "(1603019, 3)\n",
      "(1610225, 3)\n",
      "(1617368, 3)\n",
      "(1624526, 3)\n",
      "(1631618, 3)\n",
      "(1638885, 3)\n",
      "(1646028, 3)\n",
      "(1652782, 3)\n",
      "(1659665, 3)\n",
      "(1666380, 3)\n"
     ]
    },
    {
     "ename": "ParserError",
     "evalue": "Error tokenizing data. C error: Expected 3 fields in line 254256504, saw 6\n",
     "output_type": "error",
     "traceback": [
      "\u001b[0;31m---------------------------------------------------------------------------\u001b[0m",
      "\u001b[0;31mParserError\u001b[0m                               Traceback (most recent call last)",
      "Cell \u001b[0;32mIn[3], line 4\u001b[0m\n\u001b[1;32m      1\u001b[0m data_rate \u001b[38;5;241m=\u001b[39m pd\u001b[38;5;241m.\u001b[39mDataFrame()\n\u001b[1;32m      3\u001b[0m \u001b[38;5;28;01mwith\u001b[39;00m pd\u001b[38;5;241m.\u001b[39mread_csv(\u001b[38;5;124m\"\u001b[39m\u001b[38;5;124mmyfile.txt\u001b[39m\u001b[38;5;124m\"\u001b[39m, names\u001b[38;5;241m=\u001b[39m[\u001b[38;5;124m\"\u001b[39m\u001b[38;5;124mTime\u001b[39m\u001b[38;5;124m\"\u001b[39m, \u001b[38;5;124m\"\u001b[39m\u001b[38;5;124muser_id\u001b[39m\u001b[38;5;124m\"\u001b[39m, \u001b[38;5;124m\"\u001b[39m\u001b[38;5;124mtext\u001b[39m\u001b[38;5;124m\"\u001b[39m], chunksize\u001b[38;5;241m=\u001b[39m\u001b[38;5;241m1e6\u001b[39m) \u001b[38;5;28;01mas\u001b[39;00m reader:\n\u001b[0;32m----> 4\u001b[0m     \u001b[38;5;28;01mfor\u001b[39;00m chunk \u001b[38;5;129;01min\u001b[39;00m reader:\n\u001b[1;32m      5\u001b[0m         data_rate_tmp \u001b[38;5;241m=\u001b[39m chunk\u001b[38;5;241m.\u001b[39mloc[chunk\u001b[38;5;241m.\u001b[39mtext\u001b[38;5;241m.\u001b[39mstr\u001b[38;5;241m.\u001b[39mstartswith(\u001b[38;5;124m\"\u001b[39m\u001b[38;5;124mGET /rate/\u001b[39m\u001b[38;5;124m\"\u001b[39m)]\n\u001b[1;32m      6\u001b[0m         data_rate \u001b[38;5;241m=\u001b[39m pd\u001b[38;5;241m.\u001b[39mconcat([data_rate, data_rate_tmp], ignore_index\u001b[38;5;241m=\u001b[39m\u001b[38;5;28;01mTrue\u001b[39;00m)\n",
      "File \u001b[0;32m~/miniconda3/envs/AIENG/lib/python3.8/site-packages/pandas/io/parsers/readers.py:1698\u001b[0m, in \u001b[0;36mTextFileReader.__next__\u001b[0;34m(self)\u001b[0m\n\u001b[1;32m   1696\u001b[0m \u001b[38;5;28;01mdef\u001b[39;00m \u001b[38;5;21m__next__\u001b[39m(\u001b[38;5;28mself\u001b[39m) \u001b[38;5;241m-\u001b[39m\u001b[38;5;241m>\u001b[39m DataFrame:\n\u001b[1;32m   1697\u001b[0m     \u001b[38;5;28;01mtry\u001b[39;00m:\n\u001b[0;32m-> 1698\u001b[0m         \u001b[38;5;28;01mreturn\u001b[39;00m \u001b[38;5;28;43mself\u001b[39;49m\u001b[38;5;241;43m.\u001b[39;49m\u001b[43mget_chunk\u001b[49m\u001b[43m(\u001b[49m\u001b[43m)\u001b[49m\n\u001b[1;32m   1699\u001b[0m     \u001b[38;5;28;01mexcept\u001b[39;00m \u001b[38;5;167;01mStopIteration\u001b[39;00m:\n\u001b[1;32m   1700\u001b[0m         \u001b[38;5;28mself\u001b[39m\u001b[38;5;241m.\u001b[39mclose()\n",
      "File \u001b[0;32m~/miniconda3/envs/AIENG/lib/python3.8/site-packages/pandas/io/parsers/readers.py:1810\u001b[0m, in \u001b[0;36mTextFileReader.get_chunk\u001b[0;34m(self, size)\u001b[0m\n\u001b[1;32m   1808\u001b[0m         \u001b[38;5;28;01mraise\u001b[39;00m \u001b[38;5;167;01mStopIteration\u001b[39;00m\n\u001b[1;32m   1809\u001b[0m     size \u001b[38;5;241m=\u001b[39m \u001b[38;5;28mmin\u001b[39m(size, \u001b[38;5;28mself\u001b[39m\u001b[38;5;241m.\u001b[39mnrows \u001b[38;5;241m-\u001b[39m \u001b[38;5;28mself\u001b[39m\u001b[38;5;241m.\u001b[39m_currow)\n\u001b[0;32m-> 1810\u001b[0m \u001b[38;5;28;01mreturn\u001b[39;00m \u001b[38;5;28;43mself\u001b[39;49m\u001b[38;5;241;43m.\u001b[39;49m\u001b[43mread\u001b[49m\u001b[43m(\u001b[49m\u001b[43mnrows\u001b[49m\u001b[38;5;241;43m=\u001b[39;49m\u001b[43msize\u001b[49m\u001b[43m)\u001b[49m\n",
      "File \u001b[0;32m~/miniconda3/envs/AIENG/lib/python3.8/site-packages/pandas/io/parsers/readers.py:1778\u001b[0m, in \u001b[0;36mTextFileReader.read\u001b[0;34m(self, nrows)\u001b[0m\n\u001b[1;32m   1771\u001b[0m nrows \u001b[38;5;241m=\u001b[39m validate_integer(\u001b[38;5;124m\"\u001b[39m\u001b[38;5;124mnrows\u001b[39m\u001b[38;5;124m\"\u001b[39m, nrows)\n\u001b[1;32m   1772\u001b[0m \u001b[38;5;28;01mtry\u001b[39;00m:\n\u001b[1;32m   1773\u001b[0m     \u001b[38;5;66;03m# error: \"ParserBase\" has no attribute \"read\"\u001b[39;00m\n\u001b[1;32m   1774\u001b[0m     (\n\u001b[1;32m   1775\u001b[0m         index,\n\u001b[1;32m   1776\u001b[0m         columns,\n\u001b[1;32m   1777\u001b[0m         col_dict,\n\u001b[0;32m-> 1778\u001b[0m     ) \u001b[38;5;241m=\u001b[39m \u001b[38;5;28;43mself\u001b[39;49m\u001b[38;5;241;43m.\u001b[39;49m\u001b[43m_engine\u001b[49m\u001b[38;5;241;43m.\u001b[39;49m\u001b[43mread\u001b[49m\u001b[43m(\u001b[49m\u001b[43m  \u001b[49m\u001b[38;5;66;43;03m# type: ignore[attr-defined]\u001b[39;49;00m\n\u001b[1;32m   1779\u001b[0m \u001b[43m        \u001b[49m\u001b[43mnrows\u001b[49m\n\u001b[1;32m   1780\u001b[0m \u001b[43m    \u001b[49m\u001b[43m)\u001b[49m\n\u001b[1;32m   1781\u001b[0m \u001b[38;5;28;01mexcept\u001b[39;00m \u001b[38;5;167;01mException\u001b[39;00m:\n\u001b[1;32m   1782\u001b[0m     \u001b[38;5;28mself\u001b[39m\u001b[38;5;241m.\u001b[39mclose()\n",
      "File \u001b[0;32m~/miniconda3/envs/AIENG/lib/python3.8/site-packages/pandas/io/parsers/c_parser_wrapper.py:230\u001b[0m, in \u001b[0;36mCParserWrapper.read\u001b[0;34m(self, nrows)\u001b[0m\n\u001b[1;32m    228\u001b[0m \u001b[38;5;28;01mtry\u001b[39;00m:\n\u001b[1;32m    229\u001b[0m     \u001b[38;5;28;01mif\u001b[39;00m \u001b[38;5;28mself\u001b[39m\u001b[38;5;241m.\u001b[39mlow_memory:\n\u001b[0;32m--> 230\u001b[0m         chunks \u001b[38;5;241m=\u001b[39m \u001b[38;5;28;43mself\u001b[39;49m\u001b[38;5;241;43m.\u001b[39;49m\u001b[43m_reader\u001b[49m\u001b[38;5;241;43m.\u001b[39;49m\u001b[43mread_low_memory\u001b[49m\u001b[43m(\u001b[49m\u001b[43mnrows\u001b[49m\u001b[43m)\u001b[49m\n\u001b[1;32m    231\u001b[0m         \u001b[38;5;66;03m# destructive to chunks\u001b[39;00m\n\u001b[1;32m    232\u001b[0m         data \u001b[38;5;241m=\u001b[39m _concatenate_chunks(chunks)\n",
      "File \u001b[0;32m~/miniconda3/envs/AIENG/lib/python3.8/site-packages/pandas/_libs/parsers.pyx:820\u001b[0m, in \u001b[0;36mpandas._libs.parsers.TextReader.read_low_memory\u001b[0;34m()\u001b[0m\n",
      "File \u001b[0;32m~/miniconda3/envs/AIENG/lib/python3.8/site-packages/pandas/_libs/parsers.pyx:866\u001b[0m, in \u001b[0;36mpandas._libs.parsers.TextReader._read_rows\u001b[0;34m()\u001b[0m\n",
      "File \u001b[0;32m~/miniconda3/envs/AIENG/lib/python3.8/site-packages/pandas/_libs/parsers.pyx:852\u001b[0m, in \u001b[0;36mpandas._libs.parsers.TextReader._tokenize_rows\u001b[0;34m()\u001b[0m\n",
      "File \u001b[0;32m~/miniconda3/envs/AIENG/lib/python3.8/site-packages/pandas/_libs/parsers.pyx:1973\u001b[0m, in \u001b[0;36mpandas._libs.parsers.raise_parser_error\u001b[0;34m()\u001b[0m\n",
      "\u001b[0;31mParserError\u001b[0m: Error tokenizing data. C error: Expected 3 fields in line 254256504, saw 6\n"
     ]
    }
   ],
   "source": [
    "data_rate = pd.DataFrame()\n",
    "\n",
    "with pd.read_csv(\"myfile.txt\", names=[\"Time\", \"user_id\", \"text\"], chunksize=1e6) as reader:\n",
    "    for chunk in reader:\n",
    "        data_rate_tmp = chunk.loc[chunk.text.str.startswith(\"GET /rate/\")]\n",
    "        data_rate = pd.concat([data_rate, data_rate_tmp], ignore_index=True)\n",
    "        print(data_rate.shape)"
   ]
  },
  {
   "cell_type": "code",
   "execution_count": 4,
   "metadata": {},
   "outputs": [
    {
     "data": {
      "text/html": [
       "<div>\n",
       "<style scoped>\n",
       "    .dataframe tbody tr th:only-of-type {\n",
       "        vertical-align: middle;\n",
       "    }\n",
       "\n",
       "    .dataframe tbody tr th {\n",
       "        vertical-align: top;\n",
       "    }\n",
       "\n",
       "    .dataframe thead th {\n",
       "        text-align: right;\n",
       "    }\n",
       "</style>\n",
       "<table border=\"1\" class=\"dataframe\">\n",
       "  <thead>\n",
       "    <tr style=\"text-align: right;\">\n",
       "      <th></th>\n",
       "      <th>Time</th>\n",
       "      <th>user_id</th>\n",
       "      <th>text</th>\n",
       "    </tr>\n",
       "  </thead>\n",
       "  <tbody>\n",
       "    <tr>\n",
       "      <th>0</th>\n",
       "      <td>2023-02-06T00:52:26</td>\n",
       "      <td>843858</td>\n",
       "      <td>GET /rate/nukes+in+space+1999=4</td>\n",
       "    </tr>\n",
       "    <tr>\n",
       "      <th>1</th>\n",
       "      <td>2023-02-06T00:52:26</td>\n",
       "      <td>814179</td>\n",
       "      <td>GET /rate/mulan+1998=4</td>\n",
       "    </tr>\n",
       "    <tr>\n",
       "      <th>2</th>\n",
       "      <td>2023-02-06T00:52:26</td>\n",
       "      <td>827266</td>\n",
       "      <td>GET /rate/my+neighbor+totoro+1988=4</td>\n",
       "    </tr>\n",
       "    <tr>\n",
       "      <th>3</th>\n",
       "      <td>2023-02-06T00:52:26</td>\n",
       "      <td>474885</td>\n",
       "      <td>GET /rate/the+collector+1965=4</td>\n",
       "    </tr>\n",
       "    <tr>\n",
       "      <th>4</th>\n",
       "      <td>2023-02-06T00:52:26</td>\n",
       "      <td>21268</td>\n",
       "      <td>GET /rate/the+terminator+1984=4</td>\n",
       "    </tr>\n",
       "    <tr>\n",
       "      <th>...</th>\n",
       "      <td>...</td>\n",
       "      <td>...</td>\n",
       "      <td>...</td>\n",
       "    </tr>\n",
       "    <tr>\n",
       "      <th>1666375</th>\n",
       "      <td>2023-02-09T10:07</td>\n",
       "      <td>234902</td>\n",
       "      <td>GET /rate/jinxed+1982=4</td>\n",
       "    </tr>\n",
       "    <tr>\n",
       "      <th>1666376</th>\n",
       "      <td>2023-02-09T10:07</td>\n",
       "      <td>12326</td>\n",
       "      <td>GET /rate/ss+camp+5+womens+hell+1977=3</td>\n",
       "    </tr>\n",
       "    <tr>\n",
       "      <th>1666377</th>\n",
       "      <td>2023-02-09T10:07</td>\n",
       "      <td>684654</td>\n",
       "      <td>GET /rate/state+fair+1933=3</td>\n",
       "    </tr>\n",
       "    <tr>\n",
       "      <th>1666378</th>\n",
       "      <td>2023-02-09T10:07:01</td>\n",
       "      <td>692813</td>\n",
       "      <td>GET /rate/mikes+new+car+2002=5</td>\n",
       "    </tr>\n",
       "    <tr>\n",
       "      <th>1666379</th>\n",
       "      <td>2023-02-09T10:07:01</td>\n",
       "      <td>209054</td>\n",
       "      <td>GET /rate/lady+and+the+tramp+1955=3</td>\n",
       "    </tr>\n",
       "  </tbody>\n",
       "</table>\n",
       "<p>1666380 rows × 3 columns</p>\n",
       "</div>"
      ],
      "text/plain": [
       "                        Time  user_id                                    text\n",
       "0        2023-02-06T00:52:26   843858         GET /rate/nukes+in+space+1999=4\n",
       "1        2023-02-06T00:52:26   814179                  GET /rate/mulan+1998=4\n",
       "2        2023-02-06T00:52:26   827266     GET /rate/my+neighbor+totoro+1988=4\n",
       "3        2023-02-06T00:52:26   474885          GET /rate/the+collector+1965=4\n",
       "4        2023-02-06T00:52:26    21268         GET /rate/the+terminator+1984=4\n",
       "...                      ...      ...                                     ...\n",
       "1666375     2023-02-09T10:07   234902                 GET /rate/jinxed+1982=4\n",
       "1666376     2023-02-09T10:07    12326  GET /rate/ss+camp+5+womens+hell+1977=3\n",
       "1666377     2023-02-09T10:07   684654             GET /rate/state+fair+1933=3\n",
       "1666378  2023-02-09T10:07:01   692813          GET /rate/mikes+new+car+2002=5\n",
       "1666379  2023-02-09T10:07:01   209054     GET /rate/lady+and+the+tramp+1955=3\n",
       "\n",
       "[1666380 rows x 3 columns]"
      ]
     },
     "execution_count": 4,
     "metadata": {},
     "output_type": "execute_result"
    }
   ],
   "source": [
    "data_rate"
   ]
  },
  {
   "cell_type": "code",
   "execution_count": 5,
   "metadata": {},
   "outputs": [
    {
     "name": "stderr",
     "output_type": "stream",
     "text": [
      "100%|███████████████████████████████| 1666380/1666380 [07:02<00:00, 3943.35it/s]\n"
     ]
    }
   ],
   "source": [
    "tqdm.pandas()\n",
    "\n",
    "def get_rate(x):\n",
    "    tmp = x[\"text\"].split(\"/\")[-1].split(\"=\")\n",
    "    x[\"movie_code\"] = tmp[0]\n",
    "    x[\"rate\"] = tmp[1]\n",
    "    return x\n",
    "\n",
    "data_rate = data_rate.progress_apply(get_rate, axis=1)"
   ]
  },
  {
   "cell_type": "code",
   "execution_count": 6,
   "metadata": {},
   "outputs": [],
   "source": [
    "movie_ids = pd.DataFrame(data_rate.movie_code.unique(), columns=['movie_code'])\n",
    "movie_ids[\"movie_id\"] = movie_ids.index"
   ]
  },
  {
   "cell_type": "code",
   "execution_count": 17,
   "metadata": {},
   "outputs": [],
   "source": [
    "user_ids = pd.DataFrame(data_rate.user_id.unique(), columns=['user_id'])"
   ]
  },
  {
   "cell_type": "code",
   "execution_count": 13,
   "metadata": {},
   "outputs": [],
   "source": [
    "data_rate = pd.merge(data_rate, movie_ids)"
   ]
  },
  {
   "cell_type": "code",
   "execution_count": 15,
   "metadata": {},
   "outputs": [
    {
     "data": {
      "text/plain": [
       "669155"
      ]
     },
     "execution_count": 15,
     "metadata": {},
     "output_type": "execute_result"
    }
   ],
   "source": [
    "len(data_rate.user_id.unique())"
   ]
  },
  {
   "cell_type": "code",
   "execution_count": 16,
   "metadata": {},
   "outputs": [
    {
     "data": {
      "text/plain": [
       "26826"
      ]
     },
     "execution_count": 16,
     "metadata": {},
     "output_type": "execute_result"
    }
   ],
   "source": [
    "len(data_rate.movie_id.unique())"
   ]
  },
  {
   "cell_type": "code",
   "execution_count": 19,
   "metadata": {},
   "outputs": [],
   "source": [
    "user_ids.to_csv(\"processed_data/user_id_v2.csv\", index=False)\n",
    "movie_ids.to_csv(\"processed_data/movie_id_v2.csv\", index=False)"
   ]
  },
  {
   "cell_type": "code",
   "execution_count": 23,
   "metadata": {
    "scrolled": true
   },
   "outputs": [],
   "source": [
    "data_rate[:1000000].to_csv(\"processed_data_v2/ratings_v2_1.csv\", index=False)"
   ]
  },
  {
   "cell_type": "code",
   "execution_count": 24,
   "metadata": {},
   "outputs": [],
   "source": [
    "data_rate[1000000:].to_csv(\"processed_data_v2/ratings_v2_2.csv\", index=False)"
   ]
  },
  {
   "cell_type": "code",
   "execution_count": null,
   "metadata": {},
   "outputs": [],
   "source": []
  }
 ],
 "metadata": {
  "kernelspec": {
   "display_name": "Python 3 (ipykernel)",
   "language": "python",
   "name": "python3"
  },
  "language_info": {
   "codemirror_mode": {
    "name": "ipython",
    "version": 3
   },
   "file_extension": ".py",
   "mimetype": "text/x-python",
   "name": "python",
   "nbconvert_exporter": "python",
   "pygments_lexer": "ipython3",
   "version": "3.8.16"
  },
  "vscode": {
   "interpreter": {
    "hash": "3dbc3c617d425baa34c8b8b1fe72054ebc745120a08a7fa621fad019769da06c"
   }
  }
 },
 "nbformat": 4,
 "nbformat_minor": 2
}
