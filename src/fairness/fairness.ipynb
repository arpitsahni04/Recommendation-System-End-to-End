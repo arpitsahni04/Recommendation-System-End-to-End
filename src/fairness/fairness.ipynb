{
 "cells": [
  {
   "attachments": {},
   "cell_type": "markdown",
   "metadata": {},
   "source": [
    "# Gather data"
   ]
  },
  {
   "attachments": {},
   "cell_type": "markdown",
   "metadata": {},
   "source": [
    "## Load user and rating data, join them"
   ]
  },
  {
   "cell_type": "code",
   "execution_count": 10,
   "metadata": {},
   "outputs": [
    {
     "data": {
      "text/html": [
       "<div>\n",
       "<style scoped>\n",
       "    .dataframe tbody tr th:only-of-type {\n",
       "        vertical-align: middle;\n",
       "    }\n",
       "\n",
       "    .dataframe tbody tr th {\n",
       "        vertical-align: top;\n",
       "    }\n",
       "\n",
       "    .dataframe thead th {\n",
       "        text-align: right;\n",
       "    }\n",
       "</style>\n",
       "<table border=\"1\" class=\"dataframe\">\n",
       "  <thead>\n",
       "    <tr style=\"text-align: right;\">\n",
       "      <th></th>\n",
       "      <th>user_id</th>\n",
       "      <th>age</th>\n",
       "      <th>occupation</th>\n",
       "      <th>gender</th>\n",
       "      <th>Time</th>\n",
       "      <th>text</th>\n",
       "      <th>movie_code_x</th>\n",
       "      <th>rate</th>\n",
       "      <th>movie_id</th>\n",
       "      <th>movie_code_y</th>\n",
       "      <th>...</th>\n",
       "      <th>original_language</th>\n",
       "      <th>popularity</th>\n",
       "      <th>production_countries</th>\n",
       "      <th>release_date</th>\n",
       "      <th>revenue</th>\n",
       "      <th>runtime</th>\n",
       "      <th>spoken_languages</th>\n",
       "      <th>status</th>\n",
       "      <th>vote_average</th>\n",
       "      <th>vote_count</th>\n",
       "    </tr>\n",
       "  </thead>\n",
       "  <tbody>\n",
       "    <tr>\n",
       "      <th>0</th>\n",
       "      <td>843858</td>\n",
       "      <td>28</td>\n",
       "      <td>college/grad student</td>\n",
       "      <td>M</td>\n",
       "      <td>2023-02-06T00:52:26</td>\n",
       "      <td>GET /rate/nukes+in+space+1999=4</td>\n",
       "      <td>nukes+in+space+1999</td>\n",
       "      <td>4</td>\n",
       "      <td>0</td>\n",
       "      <td>nukes+in+space+1999</td>\n",
       "      <td>...</td>\n",
       "      <td>en</td>\n",
       "      <td>0.336895</td>\n",
       "      <td>NaN</td>\n",
       "      <td>1999-01-01</td>\n",
       "      <td>0</td>\n",
       "      <td>53</td>\n",
       "      <td>en:English</td>\n",
       "      <td>Released</td>\n",
       "      <td>5.8</td>\n",
       "      <td>3</td>\n",
       "    </tr>\n",
       "    <tr>\n",
       "      <th>1</th>\n",
       "      <td>128716</td>\n",
       "      <td>36</td>\n",
       "      <td>other or not specified</td>\n",
       "      <td>M</td>\n",
       "      <td>2023-02-06T01:55</td>\n",
       "      <td>GET /rate/nukes+in+space+1999=2</td>\n",
       "      <td>nukes+in+space+1999</td>\n",
       "      <td>2</td>\n",
       "      <td>0</td>\n",
       "      <td>nukes+in+space+1999</td>\n",
       "      <td>...</td>\n",
       "      <td>en</td>\n",
       "      <td>0.336895</td>\n",
       "      <td>NaN</td>\n",
       "      <td>1999-01-01</td>\n",
       "      <td>0</td>\n",
       "      <td>53</td>\n",
       "      <td>en:English</td>\n",
       "      <td>Released</td>\n",
       "      <td>5.8</td>\n",
       "      <td>3</td>\n",
       "    </tr>\n",
       "    <tr>\n",
       "      <th>2</th>\n",
       "      <td>666986</td>\n",
       "      <td>33</td>\n",
       "      <td>retired</td>\n",
       "      <td>M</td>\n",
       "      <td>2023-02-06T03:23:43</td>\n",
       "      <td>GET /rate/nukes+in+space+1999=3</td>\n",
       "      <td>nukes+in+space+1999</td>\n",
       "      <td>3</td>\n",
       "      <td>0</td>\n",
       "      <td>nukes+in+space+1999</td>\n",
       "      <td>...</td>\n",
       "      <td>en</td>\n",
       "      <td>0.336895</td>\n",
       "      <td>NaN</td>\n",
       "      <td>1999-01-01</td>\n",
       "      <td>0</td>\n",
       "      <td>53</td>\n",
       "      <td>en:English</td>\n",
       "      <td>Released</td>\n",
       "      <td>5.8</td>\n",
       "      <td>3</td>\n",
       "    </tr>\n",
       "    <tr>\n",
       "      <th>3</th>\n",
       "      <td>24351</td>\n",
       "      <td>26</td>\n",
       "      <td>sales/marketing</td>\n",
       "      <td>M</td>\n",
       "      <td>2023-02-06T07:37:03</td>\n",
       "      <td>GET /rate/nukes+in+space+1999=3</td>\n",
       "      <td>nukes+in+space+1999</td>\n",
       "      <td>3</td>\n",
       "      <td>0</td>\n",
       "      <td>nukes+in+space+1999</td>\n",
       "      <td>...</td>\n",
       "      <td>en</td>\n",
       "      <td>0.336895</td>\n",
       "      <td>NaN</td>\n",
       "      <td>1999-01-01</td>\n",
       "      <td>0</td>\n",
       "      <td>53</td>\n",
       "      <td>en:English</td>\n",
       "      <td>Released</td>\n",
       "      <td>5.8</td>\n",
       "      <td>3</td>\n",
       "    </tr>\n",
       "    <tr>\n",
       "      <th>4</th>\n",
       "      <td>932254</td>\n",
       "      <td>32</td>\n",
       "      <td>executive/managerial</td>\n",
       "      <td>M</td>\n",
       "      <td>2023-02-06T09:05:24</td>\n",
       "      <td>GET /rate/nukes+in+space+1999=4</td>\n",
       "      <td>nukes+in+space+1999</td>\n",
       "      <td>4</td>\n",
       "      <td>0</td>\n",
       "      <td>nukes+in+space+1999</td>\n",
       "      <td>...</td>\n",
       "      <td>en</td>\n",
       "      <td>0.336895</td>\n",
       "      <td>NaN</td>\n",
       "      <td>1999-01-01</td>\n",
       "      <td>0</td>\n",
       "      <td>53</td>\n",
       "      <td>en:English</td>\n",
       "      <td>Released</td>\n",
       "      <td>5.8</td>\n",
       "      <td>3</td>\n",
       "    </tr>\n",
       "  </tbody>\n",
       "</table>\n",
       "<p>5 rows × 27 columns</p>\n",
       "</div>"
      ],
      "text/plain": [
       "   user_id  age              occupation gender                 Time  \\\n",
       "0   843858   28    college/grad student      M  2023-02-06T00:52:26   \n",
       "1   128716   36  other or not specified      M     2023-02-06T01:55   \n",
       "2   666986   33                 retired      M  2023-02-06T03:23:43   \n",
       "3    24351   26         sales/marketing      M  2023-02-06T07:37:03   \n",
       "4   932254   32    executive/managerial      M  2023-02-06T09:05:24   \n",
       "\n",
       "                              text         movie_code_x  rate  movie_id  \\\n",
       "0  GET /rate/nukes+in+space+1999=4  nukes+in+space+1999     4         0   \n",
       "1  GET /rate/nukes+in+space+1999=2  nukes+in+space+1999     2         0   \n",
       "2  GET /rate/nukes+in+space+1999=3  nukes+in+space+1999     3         0   \n",
       "3  GET /rate/nukes+in+space+1999=3  nukes+in+space+1999     3         0   \n",
       "4  GET /rate/nukes+in+space+1999=4  nukes+in+space+1999     4         0   \n",
       "\n",
       "          movie_code_y  ...  original_language popularity  \\\n",
       "0  nukes+in+space+1999  ...                 en   0.336895   \n",
       "1  nukes+in+space+1999  ...                 en   0.336895   \n",
       "2  nukes+in+space+1999  ...                 en   0.336895   \n",
       "3  nukes+in+space+1999  ...                 en   0.336895   \n",
       "4  nukes+in+space+1999  ...                 en   0.336895   \n",
       "\n",
       "  production_countries release_date  revenue  runtime spoken_languages  \\\n",
       "0                  NaN   1999-01-01        0       53       en:English   \n",
       "1                  NaN   1999-01-01        0       53       en:English   \n",
       "2                  NaN   1999-01-01        0       53       en:English   \n",
       "3                  NaN   1999-01-01        0       53       en:English   \n",
       "4                  NaN   1999-01-01        0       53       en:English   \n",
       "\n",
       "     status  vote_average vote_count  \n",
       "0  Released           5.8          3  \n",
       "1  Released           5.8          3  \n",
       "2  Released           5.8          3  \n",
       "3  Released           5.8          3  \n",
       "4  Released           5.8          3  \n",
       "\n",
       "[5 rows x 27 columns]"
      ]
     },
     "execution_count": 10,
     "metadata": {},
     "output_type": "execute_result"
    }
   ],
   "source": [
    "import pandas as pd\n",
    "\n",
    "# read data\n",
    "users = pd.read_csv('../../data/data_archive/data_v2/user_info_v2.csv')\n",
    "ratings1 = pd.read_csv('../../data/data_archive/data_v2/ratings_v2_1.csv')\n",
    "ratings2 = pd.read_csv('../../data/data_archive/data_v2/ratings_v2_2.csv')\n",
    "movies = pd.read_csv('../../data/data_archive/data_v2/movie_info_v2.csv')\n",
    "ratings = pd.concat([ratings1,ratings2],ignore_index=True)\n",
    "\n",
    "# join both \n",
    "final = pd.merge(users, ratings, on='user_id')\n",
    "final = pd.merge(final,movies,on='movie_id')\n",
    "\n",
    "final.head()"
   ]
  },
  {
   "cell_type": "code",
   "execution_count": 12,
   "metadata": {},
   "outputs": [
    {
     "data": {
      "text/html": [
       "<div>\n",
       "<style scoped>\n",
       "    .dataframe tbody tr th:only-of-type {\n",
       "        vertical-align: middle;\n",
       "    }\n",
       "\n",
       "    .dataframe tbody tr th {\n",
       "        vertical-align: top;\n",
       "    }\n",
       "\n",
       "    .dataframe thead th {\n",
       "        text-align: right;\n",
       "    }\n",
       "</style>\n",
       "<table border=\"1\" class=\"dataframe\">\n",
       "  <thead>\n",
       "    <tr style=\"text-align: right;\">\n",
       "      <th></th>\n",
       "      <th>user_id</th>\n",
       "      <th>movie_id</th>\n",
       "      <th>age</th>\n",
       "      <th>occupation</th>\n",
       "      <th>gender</th>\n",
       "      <th>rate</th>\n",
       "      <th>original_language</th>\n",
       "      <th>genres</th>\n",
       "    </tr>\n",
       "  </thead>\n",
       "  <tbody>\n",
       "    <tr>\n",
       "      <th>0</th>\n",
       "      <td>843858</td>\n",
       "      <td>0</td>\n",
       "      <td>28</td>\n",
       "      <td>college/grad student</td>\n",
       "      <td>M</td>\n",
       "      <td>4</td>\n",
       "      <td>en</td>\n",
       "      <td>99:Documentary|36:History</td>\n",
       "    </tr>\n",
       "    <tr>\n",
       "      <th>1</th>\n",
       "      <td>128716</td>\n",
       "      <td>0</td>\n",
       "      <td>36</td>\n",
       "      <td>other or not specified</td>\n",
       "      <td>M</td>\n",
       "      <td>2</td>\n",
       "      <td>en</td>\n",
       "      <td>99:Documentary|36:History</td>\n",
       "    </tr>\n",
       "    <tr>\n",
       "      <th>2</th>\n",
       "      <td>666986</td>\n",
       "      <td>0</td>\n",
       "      <td>33</td>\n",
       "      <td>retired</td>\n",
       "      <td>M</td>\n",
       "      <td>3</td>\n",
       "      <td>en</td>\n",
       "      <td>99:Documentary|36:History</td>\n",
       "    </tr>\n",
       "    <tr>\n",
       "      <th>3</th>\n",
       "      <td>24351</td>\n",
       "      <td>0</td>\n",
       "      <td>26</td>\n",
       "      <td>sales/marketing</td>\n",
       "      <td>M</td>\n",
       "      <td>3</td>\n",
       "      <td>en</td>\n",
       "      <td>99:Documentary|36:History</td>\n",
       "    </tr>\n",
       "    <tr>\n",
       "      <th>4</th>\n",
       "      <td>932254</td>\n",
       "      <td>0</td>\n",
       "      <td>32</td>\n",
       "      <td>executive/managerial</td>\n",
       "      <td>M</td>\n",
       "      <td>4</td>\n",
       "      <td>en</td>\n",
       "      <td>99:Documentary|36:History</td>\n",
       "    </tr>\n",
       "  </tbody>\n",
       "</table>\n",
       "</div>"
      ],
      "text/plain": [
       "   user_id  movie_id  age              occupation gender  rate  \\\n",
       "0   843858         0   28    college/grad student      M     4   \n",
       "1   128716         0   36  other or not specified      M     2   \n",
       "2   666986         0   33                 retired      M     3   \n",
       "3    24351         0   26         sales/marketing      M     3   \n",
       "4   932254         0   32    executive/managerial      M     4   \n",
       "\n",
       "  original_language                     genres  \n",
       "0                en  99:Documentary|36:History  \n",
       "1                en  99:Documentary|36:History  \n",
       "2                en  99:Documentary|36:History  \n",
       "3                en  99:Documentary|36:History  \n",
       "4                en  99:Documentary|36:History  "
      ]
     },
     "execution_count": 12,
     "metadata": {},
     "output_type": "execute_result"
    }
   ],
   "source": [
    "final = final[['user_id','movie_id','age','occupation','gender','rate','original_language','genres']]\n",
    "final.head()"
   ]
  },
  {
   "attachments": {},
   "cell_type": "markdown",
   "metadata": {},
   "source": [
    "## Reformat Genres column"
   ]
  },
  {
   "cell_type": "code",
   "execution_count": 63,
   "metadata": {},
   "outputs": [
    {
     "data": {
      "text/html": [
       "<div>\n",
       "<style scoped>\n",
       "    .dataframe tbody tr th:only-of-type {\n",
       "        vertical-align: middle;\n",
       "    }\n",
       "\n",
       "    .dataframe tbody tr th {\n",
       "        vertical-align: top;\n",
       "    }\n",
       "\n",
       "    .dataframe thead th {\n",
       "        text-align: right;\n",
       "    }\n",
       "</style>\n",
       "<table border=\"1\" class=\"dataframe\">\n",
       "  <thead>\n",
       "    <tr style=\"text-align: right;\">\n",
       "      <th></th>\n",
       "      <th>index</th>\n",
       "      <th>user_id</th>\n",
       "      <th>movie_id</th>\n",
       "      <th>age</th>\n",
       "      <th>occupation</th>\n",
       "      <th>gender</th>\n",
       "      <th>rate</th>\n",
       "      <th>original_language</th>\n",
       "      <th>genres</th>\n",
       "    </tr>\n",
       "  </thead>\n",
       "  <tbody>\n",
       "    <tr>\n",
       "      <th>0</th>\n",
       "      <td>0</td>\n",
       "      <td>843858</td>\n",
       "      <td>0</td>\n",
       "      <td>28</td>\n",
       "      <td>college/grad student</td>\n",
       "      <td>M</td>\n",
       "      <td>4</td>\n",
       "      <td>en</td>\n",
       "      <td>Documentary</td>\n",
       "    </tr>\n",
       "    <tr>\n",
       "      <th>1</th>\n",
       "      <td>0</td>\n",
       "      <td>843858</td>\n",
       "      <td>0</td>\n",
       "      <td>28</td>\n",
       "      <td>college/grad student</td>\n",
       "      <td>M</td>\n",
       "      <td>4</td>\n",
       "      <td>en</td>\n",
       "      <td>History</td>\n",
       "    </tr>\n",
       "    <tr>\n",
       "      <th>2</th>\n",
       "      <td>1</td>\n",
       "      <td>128716</td>\n",
       "      <td>0</td>\n",
       "      <td>36</td>\n",
       "      <td>other or not specified</td>\n",
       "      <td>M</td>\n",
       "      <td>2</td>\n",
       "      <td>en</td>\n",
       "      <td>Documentary</td>\n",
       "    </tr>\n",
       "    <tr>\n",
       "      <th>3</th>\n",
       "      <td>1</td>\n",
       "      <td>128716</td>\n",
       "      <td>0</td>\n",
       "      <td>36</td>\n",
       "      <td>other or not specified</td>\n",
       "      <td>M</td>\n",
       "      <td>2</td>\n",
       "      <td>en</td>\n",
       "      <td>History</td>\n",
       "    </tr>\n",
       "    <tr>\n",
       "      <th>4</th>\n",
       "      <td>2</td>\n",
       "      <td>666986</td>\n",
       "      <td>0</td>\n",
       "      <td>33</td>\n",
       "      <td>retired</td>\n",
       "      <td>M</td>\n",
       "      <td>3</td>\n",
       "      <td>en</td>\n",
       "      <td>Documentary</td>\n",
       "    </tr>\n",
       "  </tbody>\n",
       "</table>\n",
       "</div>"
      ],
      "text/plain": [
       "   index  user_id  movie_id  age              occupation gender  rate  \\\n",
       "0      0   843858         0   28    college/grad student      M     4   \n",
       "1      0   843858         0   28    college/grad student      M     4   \n",
       "2      1   128716         0   36  other or not specified      M     2   \n",
       "3      1   128716         0   36  other or not specified      M     2   \n",
       "4      2   666986         0   33                 retired      M     3   \n",
       "\n",
       "  original_language       genres  \n",
       "0                en  Documentary  \n",
       "1                en      History  \n",
       "2                en  Documentary  \n",
       "3                en      History  \n",
       "4                en  Documentary  "
      ]
     },
     "execution_count": 63,
     "metadata": {},
     "output_type": "execute_result"
    }
   ],
   "source": [
    "final = final.assign(genres=final['genres'].str.split('|')).explode('genres').reset_index()\n",
    "\n",
    "\n",
    "# extract the genre name by removing the number and colon prefix from each genre value\n",
    "final['genres'] = final['genres'].str.split(':').str[-1]\n",
    "\n",
    "# print the resulting dataframe with one row for each genre\n",
    "final.head()"
   ]
  },
  {
   "cell_type": "code",
   "execution_count": 64,
   "metadata": {},
   "outputs": [
    {
     "data": {
      "text/html": [
       "<div>\n",
       "<style scoped>\n",
       "    .dataframe tbody tr th:only-of-type {\n",
       "        vertical-align: middle;\n",
       "    }\n",
       "\n",
       "    .dataframe tbody tr th {\n",
       "        vertical-align: top;\n",
       "    }\n",
       "\n",
       "    .dataframe thead th {\n",
       "        text-align: right;\n",
       "    }\n",
       "</style>\n",
       "<table border=\"1\" class=\"dataframe\">\n",
       "  <thead>\n",
       "    <tr style=\"text-align: right;\">\n",
       "      <th></th>\n",
       "      <th>user_id</th>\n",
       "      <th>movie_id</th>\n",
       "      <th>age</th>\n",
       "      <th>occupation</th>\n",
       "      <th>gender</th>\n",
       "      <th>rate</th>\n",
       "      <th>original_language</th>\n",
       "      <th>genres</th>\n",
       "    </tr>\n",
       "  </thead>\n",
       "  <tbody>\n",
       "    <tr>\n",
       "      <th>0</th>\n",
       "      <td>843858</td>\n",
       "      <td>0</td>\n",
       "      <td>28</td>\n",
       "      <td>college/grad student</td>\n",
       "      <td>M</td>\n",
       "      <td>4</td>\n",
       "      <td>en</td>\n",
       "      <td>Documentary</td>\n",
       "    </tr>\n",
       "    <tr>\n",
       "      <th>1</th>\n",
       "      <td>843858</td>\n",
       "      <td>0</td>\n",
       "      <td>28</td>\n",
       "      <td>college/grad student</td>\n",
       "      <td>M</td>\n",
       "      <td>4</td>\n",
       "      <td>en</td>\n",
       "      <td>History</td>\n",
       "    </tr>\n",
       "    <tr>\n",
       "      <th>2</th>\n",
       "      <td>128716</td>\n",
       "      <td>0</td>\n",
       "      <td>36</td>\n",
       "      <td>other or not specified</td>\n",
       "      <td>M</td>\n",
       "      <td>2</td>\n",
       "      <td>en</td>\n",
       "      <td>Documentary</td>\n",
       "    </tr>\n",
       "    <tr>\n",
       "      <th>3</th>\n",
       "      <td>128716</td>\n",
       "      <td>0</td>\n",
       "      <td>36</td>\n",
       "      <td>other or not specified</td>\n",
       "      <td>M</td>\n",
       "      <td>2</td>\n",
       "      <td>en</td>\n",
       "      <td>History</td>\n",
       "    </tr>\n",
       "    <tr>\n",
       "      <th>4</th>\n",
       "      <td>666986</td>\n",
       "      <td>0</td>\n",
       "      <td>33</td>\n",
       "      <td>retired</td>\n",
       "      <td>M</td>\n",
       "      <td>3</td>\n",
       "      <td>en</td>\n",
       "      <td>Documentary</td>\n",
       "    </tr>\n",
       "  </tbody>\n",
       "</table>\n",
       "</div>"
      ],
      "text/plain": [
       "   user_id  movie_id  age              occupation gender  rate  \\\n",
       "0   843858         0   28    college/grad student      M     4   \n",
       "1   843858         0   28    college/grad student      M     4   \n",
       "2   128716         0   36  other or not specified      M     2   \n",
       "3   128716         0   36  other or not specified      M     2   \n",
       "4   666986         0   33                 retired      M     3   \n",
       "\n",
       "  original_language       genres  \n",
       "0                en  Documentary  \n",
       "1                en      History  \n",
       "2                en  Documentary  \n",
       "3                en      History  \n",
       "4                en  Documentary  "
      ]
     },
     "execution_count": 64,
     "metadata": {},
     "output_type": "execute_result"
    }
   ],
   "source": [
    "final.drop(columns=['index'],inplace=True)\n",
    "final.head()"
   ]
  },
  {
   "attachments": {},
   "cell_type": "markdown",
   "metadata": {},
   "source": [
    "# System"
   ]
  },
  {
   "attachments": {},
   "cell_type": "markdown",
   "metadata": {},
   "source": [
    "## Group by gender"
   ]
  },
  {
   "cell_type": "code",
   "execution_count": 65,
   "metadata": {},
   "outputs": [
    {
     "data": {
      "text/html": [
       "<div>\n",
       "<style scoped>\n",
       "    .dataframe tbody tr th:only-of-type {\n",
       "        vertical-align: middle;\n",
       "    }\n",
       "\n",
       "    .dataframe tbody tr th {\n",
       "        vertical-align: top;\n",
       "    }\n",
       "\n",
       "    .dataframe thead tr th {\n",
       "        text-align: left;\n",
       "    }\n",
       "\n",
       "    .dataframe thead tr:last-of-type th {\n",
       "        text-align: right;\n",
       "    }\n",
       "</style>\n",
       "<table border=\"1\" class=\"dataframe\">\n",
       "  <thead>\n",
       "    <tr>\n",
       "      <th></th>\n",
       "      <th colspan=\"8\" halign=\"left\">user_id</th>\n",
       "      <th colspan=\"2\" halign=\"left\">movie_id</th>\n",
       "      <th>...</th>\n",
       "      <th colspan=\"2\" halign=\"left\">age</th>\n",
       "      <th colspan=\"8\" halign=\"left\">rate</th>\n",
       "    </tr>\n",
       "    <tr>\n",
       "      <th></th>\n",
       "      <th>count</th>\n",
       "      <th>mean</th>\n",
       "      <th>std</th>\n",
       "      <th>min</th>\n",
       "      <th>25%</th>\n",
       "      <th>50%</th>\n",
       "      <th>75%</th>\n",
       "      <th>max</th>\n",
       "      <th>count</th>\n",
       "      <th>mean</th>\n",
       "      <th>...</th>\n",
       "      <th>75%</th>\n",
       "      <th>max</th>\n",
       "      <th>count</th>\n",
       "      <th>mean</th>\n",
       "      <th>std</th>\n",
       "      <th>min</th>\n",
       "      <th>25%</th>\n",
       "      <th>50%</th>\n",
       "      <th>75%</th>\n",
       "      <th>max</th>\n",
       "    </tr>\n",
       "    <tr>\n",
       "      <th>gender</th>\n",
       "      <th></th>\n",
       "      <th></th>\n",
       "      <th></th>\n",
       "      <th></th>\n",
       "      <th></th>\n",
       "      <th></th>\n",
       "      <th></th>\n",
       "      <th></th>\n",
       "      <th></th>\n",
       "      <th></th>\n",
       "      <th></th>\n",
       "      <th></th>\n",
       "      <th></th>\n",
       "      <th></th>\n",
       "      <th></th>\n",
       "      <th></th>\n",
       "      <th></th>\n",
       "      <th></th>\n",
       "      <th></th>\n",
       "      <th></th>\n",
       "      <th></th>\n",
       "    </tr>\n",
       "  </thead>\n",
       "  <tbody>\n",
       "    <tr>\n",
       "      <th>F</th>\n",
       "      <td>709633.0</td>\n",
       "      <td>473055.215076</td>\n",
       "      <td>272097.648738</td>\n",
       "      <td>6.0</td>\n",
       "      <td>236596.0</td>\n",
       "      <td>474092.0</td>\n",
       "      <td>710003.0</td>\n",
       "      <td>944439.0</td>\n",
       "      <td>709633.0</td>\n",
       "      <td>6776.708198</td>\n",
       "      <td>...</td>\n",
       "      <td>33.0</td>\n",
       "      <td>90.0</td>\n",
       "      <td>709633.0</td>\n",
       "      <td>3.741734</td>\n",
       "      <td>0.746496</td>\n",
       "      <td>1.0</td>\n",
       "      <td>3.0</td>\n",
       "      <td>4.0</td>\n",
       "      <td>4.0</td>\n",
       "      <td>5.0</td>\n",
       "    </tr>\n",
       "    <tr>\n",
       "      <th>M</th>\n",
       "      <td>3461779.0</td>\n",
       "      <td>471500.897345</td>\n",
       "      <td>272275.882704</td>\n",
       "      <td>1.0</td>\n",
       "      <td>235571.0</td>\n",
       "      <td>471710.0</td>\n",
       "      <td>707507.0</td>\n",
       "      <td>944437.0</td>\n",
       "      <td>3461779.0</td>\n",
       "      <td>6700.784686</td>\n",
       "      <td>...</td>\n",
       "      <td>32.0</td>\n",
       "      <td>90.0</td>\n",
       "      <td>3461779.0</td>\n",
       "      <td>3.729727</td>\n",
       "      <td>0.751426</td>\n",
       "      <td>1.0</td>\n",
       "      <td>3.0</td>\n",
       "      <td>4.0</td>\n",
       "      <td>4.0</td>\n",
       "      <td>5.0</td>\n",
       "    </tr>\n",
       "  </tbody>\n",
       "</table>\n",
       "<p>2 rows × 32 columns</p>\n",
       "</div>"
      ],
      "text/plain": [
       "          user_id                                                         \\\n",
       "            count           mean            std  min       25%       50%   \n",
       "gender                                                                     \n",
       "F        709633.0  473055.215076  272097.648738  6.0  236596.0  474092.0   \n",
       "M       3461779.0  471500.897345  272275.882704  1.0  235571.0  471710.0   \n",
       "\n",
       "                             movie_id               ...   age        \\\n",
       "             75%       max      count         mean  ...   75%   max   \n",
       "gender                                              ...               \n",
       "F       710003.0  944439.0   709633.0  6776.708198  ...  33.0  90.0   \n",
       "M       707507.0  944437.0  3461779.0  6700.784686  ...  32.0  90.0   \n",
       "\n",
       "             rate                                               \n",
       "            count      mean       std  min  25%  50%  75%  max  \n",
       "gender                                                          \n",
       "F        709633.0  3.741734  0.746496  1.0  3.0  4.0  4.0  5.0  \n",
       "M       3461779.0  3.729727  0.751426  1.0  3.0  4.0  4.0  5.0  \n",
       "\n",
       "[2 rows x 32 columns]"
      ]
     },
     "metadata": {},
     "output_type": "display_data"
    }
   ],
   "source": [
    "# group data by demographic group and calculate summary statistics\n",
    "grouped_gender = final.groupby(\"gender\")\n",
    "gender_stats = grouped_gender.describe()\n",
    "display(gender_stats)"
   ]
  },
  {
   "attachments": {},
   "cell_type": "markdown",
   "metadata": {},
   "source": [
    "## Visualize rating distribution for each gender"
   ]
  },
  {
   "cell_type": "code",
   "execution_count": 66,
   "metadata": {},
   "outputs": [
    {
     "data": {
      "image/png": "[encoded data removed]",
      "text/plain": [
       "<Figure size 432x288 with 1 Axes>"
      ]
     },
     "metadata": {
      "needs_background": "light"
     },
     "output_type": "display_data"
    }
   ],
   "source": [
    "import matplotlib.pyplot as plt\n",
    "\n",
    "# plot rating distribution for each demographic group\n",
    "for group in grouped_gender.groups:\n",
    "    plt.hist(grouped_gender.get_group(group)[\"rate\"], bins=10, alpha=0.5, label=group)\n",
    "plt.legend(loc='upper right')\n",
    "plt.show()"
   ]
  },
  {
   "attachments": {},
   "cell_type": "markdown",
   "metadata": {},
   "source": [
    "## Genre representation wordcloud"
   ]
  },
  {
   "cell_type": "code",
   "execution_count": 72,
   "metadata": {},
   "outputs": [
    {
     "data": {
      "image/png": "[encoded data removed]",
      "text/plain": [
       "<Figure size 576x576 with 1 Axes>"
      ]
     },
     "metadata": {
      "needs_background": "light"
     },
     "output_type": "display_data"
    }
   ],
   "source": [
    "from wordcloud import WordCloud\n",
    "\n",
    "wordcloud = WordCloud(width=800, height=800, background_color='white').generate_from_frequencies(final['genres'].value_counts())\n",
    "\n",
    "# plot the word cloud\n",
    "plt.figure(figsize=(8, 8), facecolor=None)\n",
    "plt.imshow(wordcloud)\n",
    "plt.axis('off')\n",
    "plt.tight_layout(pad=0)\n",
    "plt.show()"
   ]
  },
  {
   "attachments": {},
   "cell_type": "markdown",
   "metadata": {},
   "source": [
    "# Recommendation Model"
   ]
  },
  {
   "attachments": {},
   "cell_type": "markdown",
   "metadata": {},
   "source": [
    "## Get the model"
   ]
  },
  {
   "attachments": {},
   "cell_type": "markdown",
   "metadata": {},
   "source": [
    "### Import libraries"
   ]
  },
  {
   "cell_type": "code",
   "execution_count": 85,
   "metadata": {},
   "outputs": [],
   "source": [
    "from compress_pickle import load, dump\n",
    "from surprise import Dataset"
   ]
  },
  {
   "attachments": {},
   "cell_type": "markdown",
   "metadata": {},
   "source": [
    "### Define functions"
   ]
  },
  {
   "cell_type": "code",
   "execution_count": 77,
   "metadata": {},
   "outputs": [],
   "source": [
    "def get_predictions(x, model):\n",
    "    return model.predict(x[\"user_id\"], x[\"movie_id\"]).est"
   ]
  },
  {
   "attachments": {},
   "cell_type": "markdown",
   "metadata": {},
   "source": [
    "### Load model"
   ]
  },
  {
   "cell_type": "code",
   "execution_count": 78,
   "metadata": {},
   "outputs": [],
   "source": [
    "model_path = '../models/SVD/algo_SVD.pkl'\n",
    "model = load(open(model_path, 'rb'), compression=\"lzma\", set_default_extension=False)"
   ]
  },
  {
   "attachments": {},
   "cell_type": "markdown",
   "metadata": {},
   "source": [
    "## Comparing predictions for Gender"
   ]
  },
  {
   "cell_type": "code",
   "execution_count": 81,
   "metadata": {},
   "outputs": [
    {
     "name": "stderr",
     "output_type": "stream",
     "text": [
      "<ipython-input-81-4ff13eccb2b1>:6: SettingWithCopyWarning: \n",
      "A value is trying to be set on a copy of a slice from a DataFrame.\n",
      "Try using .loc[row_indexer,col_indexer] = value instead\n",
      "\n",
      "See the caveats in the documentation: https://pandas.pydata.org/pandas-docs/stable/user_guide/indexing.html#returning-a-view-versus-a-copy\n",
      "  group_M_dataset[\"predict_rate\"] = group_M_dataset.apply(get_predictions, args=(model,), axis=1)\n",
      "<ipython-input-81-4ff13eccb2b1>:14: SettingWithCopyWarning: \n",
      "A value is trying to be set on a copy of a slice from a DataFrame.\n",
      "Try using .loc[row_indexer,col_indexer] = value instead\n",
      "\n",
      "See the caveats in the documentation: https://pandas.pydata.org/pandas-docs/stable/user_guide/indexing.html#returning-a-view-versus-a-copy\n",
      "  group_F_dataset[\"predict_rate\"] = group_F_dataset.apply(get_predictions, args=(model,), axis=1)\n"
     ]
    },
    {
     "data": {
      "image/png": "[encoded data removed]",
      "text/plain": [
       "<Figure size 432x288 with 1 Axes>"
      ]
     },
     "metadata": {
      "needs_background": "light"
     },
     "output_type": "display_data"
    }
   ],
   "source": [
    "# extract subset of data for demographic group A\n",
    "group_M_data = final[final[\"gender\"] == \"M\"]\n",
    "# create surprise dataset object\n",
    "group_M_dataset = group_M_data[[\"user_id\", \"movie_id\", \"rate\"]]\n",
    "# make predictions\n",
    "group_M_dataset[\"predict_rate\"] = group_M_dataset.apply(get_predictions, args=(model,), axis=1)\n",
    "group_M_ratings = group_M_dataset['predict_rate'].tolist()\n",
    "\n",
    "# extract subset of data for demographic group A\n",
    "group_F_data = final[final[\"gender\"] == \"F\"]\n",
    "# create surprise dataset object\n",
    "group_F_dataset = group_F_data[[\"user_id\", \"movie_id\", \"rate\"]]\n",
    "# make predictions\n",
    "group_F_dataset[\"predict_rate\"] = group_F_dataset.apply(get_predictions, args=(model,), axis=1)\n",
    "group_F_ratings = group_F_dataset['predict_rate'].tolist()\n",
    "\n",
    "# plot histograms of predicted ratings for the two groups\n",
    "plt.hist(group_M_ratings, alpha=0.5, label=\"Recommendations for Male\")\n",
    "plt.hist(group_F_ratings, alpha=0.5, label=\"Recommendations for Female\")\n",
    "plt.legend(loc=\"upper right\")\n",
    "plt.show()"
   ]
  },
  {
   "attachments": {},
   "cell_type": "markdown",
   "metadata": {},
   "source": [
    "## Comparing Gender parity"
   ]
  },
  {
   "cell_type": "code",
   "execution_count": 84,
   "metadata": {},
   "outputs": [
    {
     "name": "stdout",
     "output_type": "stream",
     "text": [
      "Gender parity:  0.0003159254992445293\n"
     ]
    }
   ],
   "source": [
    "group_M_binary = [1 if pred >= 3 else 0 for pred in group_M_ratings]\n",
    "group_F_binary = [1 if pred >= 3 else 0 for pred in group_F_ratings]\n",
    "# calculate demographic parity metric\n",
    "prob_M_positive = sum(group_M_binary) / len(group_M_binary)\n",
    "prob_F_positive = sum(group_F_binary) / len(group_F_binary)\n",
    "gender_parity = abs(prob_M_positive - prob_F_positive)\n",
    "print(\"Gender parity: \", gender_parity)"
   ]
  },
  {
   "attachments": {},
   "cell_type": "markdown",
   "metadata": {},
   "source": [
    "A gender parity of 0.0003159254992445293 suggests that there is a significant difference in the proportion of positive ratings (i.e., ratings of 4 or 5) between male and female users in the dataset. There could be several reasons why this disparity exists:\n",
    "\n",
    "Sample size: It is possible that the sample size for one of the genders is much smaller than the other, which can lead to statistical noise and artificially inflate the gender parity metric.\n",
    "\n",
    "User behavior: It is possible that male and female users behave differently when rating movies, leading to differences in the proportion of positive ratings between the genders. For example, males may be more likely to rate movies positively than females, or vice versa.\n",
    "\n",
    "Movie selection bias: It is possible that the movies in the dataset are biased towards a particular gender, leading to differences in the proportion of positive ratings between male and female users. For example, if the dataset contains mostly action movies, which are typically marketed towards male audiences, this could lead to a higher proportion of positive ratings from male users.\n",
    "\n",
    "Algorithmic bias: It is possible that the recommendation algorithm itself is biased towards one gender, leading to differences in the proportion of positive ratings between male and female users. For example, the algorithm may be biased towards recommending movies that are popular with male users, which could lead to higher positive ratings from male users.\n",
    "\n",
    "To address this issue, it is important to investigate the root cause of the gender parity disparity and take appropriate steps to mitigate it. For example, if the disparity is due to user behavior, it may be necessary to collect additional data to ensure that the sample size is balanced across genders. If the disparity is due to movie selection bias, it may be necessary to include a more diverse set of movies in the dataset. If the disparity is due to algorithmic bias, it may be necessary to adjust the recommendation algorithm to ensure that it is fair across genders."
   ]
  },
  {
   "attachments": {},
   "cell_type": "markdown",
   "metadata": {},
   "source": [
    "## Jaccard similarity"
   ]
  },
  {
   "cell_type": "code",
   "execution_count": 86,
   "metadata": {},
   "outputs": [],
   "source": [
    "from surprise import accuracy\n",
    "\n",
    "# define function to compute Jaccard similarity index\n",
    "def jaccard_similarity(top_N_1, top_N_2):\n",
    "    set_1 = set(top_N_1)\n",
    "    set_2 = set(top_N_2)\n",
    "    intersection = len(set_1.intersection(set_2))\n",
    "    union = len(set_1.union(set_2))\n",
    "    return intersection / union"
   ]
  },
  {
   "attachments": {},
   "cell_type": "markdown",
   "metadata": {},
   "source": [
    "### Get top 20 recommended movie and compare JSI"
   ]
  },
  {
   "cell_type": "code",
   "execution_count": 89,
   "metadata": {},
   "outputs": [],
   "source": [
    "# calculate the top 20 ratings for a user using heapq; used in recommend_movies()\n",
    "import heapq\n",
    "def get_top_recommendations(movieids, ratings, top_N):\n",
    "    iters = zip(ratings, movieids)\n",
    "    items = heapq.nlargest(top_N, iters, key = lambda x: x[0])\n",
    "    return [x[1] for x in items]"
   ]
  },
  {
   "cell_type": "code",
   "execution_count": 92,
   "metadata": {},
   "outputs": [
    {
     "name": "stdout",
     "output_type": "stream",
     "text": [
      "Jaccard similarity index \n",
      "between top-20 recommended movies for user groups A and B:\n",
      " 0.250\n"
     ]
    }
   ],
   "source": [
    "group_M_top_N = get_top_recommendations(group_M_dataset.movie_id,group_M_ratings,20)\n",
    "group_F_top_N = get_top_recommendations(group_F_dataset.movie_id,group_F_ratings,20)\n",
    "\n",
    "# compute Jaccard similarity index between the top-N recommended movies for the two groups\n",
    "similarity_index = jaccard_similarity(group_M_top_N, group_F_top_N)\n",
    "print(\"Jaccard similarity index \\nbetween top-{} recommended movies for user groups A and B:\\n {:.3f}\".format(20, similarity_index))"
   ]
  },
  {
   "attachments": {},
   "cell_type": "markdown",
   "metadata": {},
   "source": [
    "## Entropy"
   ]
  },
  {
   "cell_type": "code",
   "execution_count": 96,
   "metadata": {},
   "outputs": [],
   "source": [
    "from collections import Counter\n",
    "import numpy as np\n",
    "def entropy(recommendations,movie_genres):\n",
    "    \"\"\"\n",
    "    Compute the entropy of movie genres in a list of recommended movies.\n",
    "    \"\"\"\n",
    "    # count the frequency of each movie genre in the recommended movies\n",
    "    genre_counts = Counter([genre for movie in recommendations for genre in movie_genres[movie]])\n",
    "    # compute the probability of each genre\n",
    "    total_count = sum(genre_counts.values())\n",
    "    genre_probs = np.array(list(genre_counts.values())) / total_count\n",
    "    # compute the entropy\n",
    "    entropy = -np.sum(genre_probs * np.log2(genre_probs))\n",
    "    return entropy"
   ]
  },
  {
   "cell_type": "code",
   "execution_count": 97,
   "metadata": {},
   "outputs": [],
   "source": [
    "# compute entropy of movie genres for the two groups\n",
    "group_M_entropy = entropy(group_M_top_N,group_M_data.genres)\n",
    "group_F_entropy = entropy(group_F_top_N,group_M_data.genres)"
   ]
  },
  {
   "cell_type": "code",
   "execution_count": 98,
   "metadata": {},
   "outputs": [
    {
     "name": "stdout",
     "output_type": "stream",
     "text": [
      "Entropy for Male: 2.802320328500376\n",
      "Entropy for Female: 3.3777950872738836\n"
     ]
    }
   ],
   "source": [
    "print(\"Entropy for Male:\",group_M_entropy)\n",
    "print(\"Entropy for Female:\",group_F_entropy)"
   ]
  }
 ],
 "metadata": {
  "kernelspec": {
   "display_name": "idls23",
   "language": "python",
   "name": "python3"
  },
  "language_info": {
   "codemirror_mode": {
    "name": "ipython",
    "version": 3
   },
   "file_extension": ".py",
   "mimetype": "text/x-python",
   "name": "python",
   "nbconvert_exporter": "python",
   "pygments_lexer": "ipython3",
   "version": "3.8.16"
  },
  "orig_nbformat": 4
 },
 "nbformat": 4,
 "nbformat_minor": 2
}
