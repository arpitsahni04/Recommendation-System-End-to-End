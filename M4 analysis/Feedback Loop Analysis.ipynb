{
 "cells": [
  {
   "cell_type": "code",
   "execution_count": 21,
   "id": "d44fb920",
   "metadata": {},
   "outputs": [],
   "source": [
    "import pandas as pd\n",
    "import numpy as np\n",
    "import os\n",
    "import requests\n",
    "import time\n",
    "import json\n",
    "from tqdm import tqdm\n",
    "tqdm.pandas()\n",
    "\n",
    "import matplotlib.pyplot as plt"
   ]
  },
  {
   "cell_type": "markdown",
   "id": "7b46d7c2",
   "metadata": {},
   "source": [
    "# 1. read data"
   ]
  },
  {
   "cell_type": "code",
   "execution_count": 4,
   "id": "1d7861fd",
   "metadata": {},
   "outputs": [],
   "source": [
    "data1 = pd.read_csv(\"data/feedback_loop_1.csv\")\n",
    "data2 = pd.read_csv(\"data/feedback_loop_2.csv\")"
   ]
  },
  {
   "cell_type": "code",
   "execution_count": 5,
   "id": "64585eef",
   "metadata": {},
   "outputs": [
    {
     "data": {
      "text/html": [
       "<div>\n",
       "<style scoped>\n",
       "    .dataframe tbody tr th:only-of-type {\n",
       "        vertical-align: middle;\n",
       "    }\n",
       "\n",
       "    .dataframe tbody tr th {\n",
       "        vertical-align: top;\n",
       "    }\n",
       "\n",
       "    .dataframe thead th {\n",
       "        text-align: right;\n",
       "    }\n",
       "</style>\n",
       "<table border=\"1\" class=\"dataframe\">\n",
       "  <thead>\n",
       "    <tr style=\"text-align: right;\">\n",
       "      <th></th>\n",
       "      <th>userid</th>\n",
       "      <th>movieid</th>\n",
       "    </tr>\n",
       "  </thead>\n",
       "  <tbody>\n",
       "    <tr>\n",
       "      <th>0</th>\n",
       "      <td>961603</td>\n",
       "      <td>animal+crackers+1930</td>\n",
       "    </tr>\n",
       "    <tr>\n",
       "      <th>1</th>\n",
       "      <td>961603</td>\n",
       "      <td>gladiator+1992+1992</td>\n",
       "    </tr>\n",
       "    <tr>\n",
       "      <th>2</th>\n",
       "      <td>961603</td>\n",
       "      <td>sunset+boulevard+1950</td>\n",
       "    </tr>\n",
       "    <tr>\n",
       "      <th>3</th>\n",
       "      <td>961603</td>\n",
       "      <td>behind+the+mask+the+rise+of+leslie+vernon+2006</td>\n",
       "    </tr>\n",
       "    <tr>\n",
       "      <th>4</th>\n",
       "      <td>961603</td>\n",
       "      <td>last+life+in+the+universe+2003</td>\n",
       "    </tr>\n",
       "    <tr>\n",
       "      <th>...</th>\n",
       "      <td>...</td>\n",
       "      <td>...</td>\n",
       "    </tr>\n",
       "    <tr>\n",
       "      <th>64455</th>\n",
       "      <td>661168</td>\n",
       "      <td>last+life+in+the+universe+2003</td>\n",
       "    </tr>\n",
       "    <tr>\n",
       "      <th>64456</th>\n",
       "      <td>661168</td>\n",
       "      <td>rear+window+1954</td>\n",
       "    </tr>\n",
       "    <tr>\n",
       "      <th>64457</th>\n",
       "      <td>661168</td>\n",
       "      <td>au+revoir+les+enfants+1987</td>\n",
       "    </tr>\n",
       "    <tr>\n",
       "      <th>64458</th>\n",
       "      <td>661168</td>\n",
       "      <td>ashes+and+diamonds+1958</td>\n",
       "    </tr>\n",
       "    <tr>\n",
       "      <th>64459</th>\n",
       "      <td>661168</td>\n",
       "      <td>the+man+who+planted+trees+1987</td>\n",
       "    </tr>\n",
       "  </tbody>\n",
       "</table>\n",
       "<p>64460 rows × 2 columns</p>\n",
       "</div>"
      ],
      "text/plain": [
       "       userid                                         movieid\n",
       "0      961603                            animal+crackers+1930\n",
       "1      961603                             gladiator+1992+1992\n",
       "2      961603                           sunset+boulevard+1950\n",
       "3      961603  behind+the+mask+the+rise+of+leslie+vernon+2006\n",
       "4      961603                  last+life+in+the+universe+2003\n",
       "...       ...                                             ...\n",
       "64455  661168                  last+life+in+the+universe+2003\n",
       "64456  661168                                rear+window+1954\n",
       "64457  661168                      au+revoir+les+enfants+1987\n",
       "64458  661168                         ashes+and+diamonds+1958\n",
       "64459  661168                  the+man+who+planted+trees+1987\n",
       "\n",
       "[64460 rows x 2 columns]"
      ]
     },
     "execution_count": 5,
     "metadata": {},
     "output_type": "execute_result"
    }
   ],
   "source": [
    "data1"
   ]
  },
  {
   "cell_type": "code",
   "execution_count": 6,
   "id": "8ec7cd84",
   "metadata": {},
   "outputs": [
    {
     "data": {
      "text/html": [
       "<div>\n",
       "<style scoped>\n",
       "    .dataframe tbody tr th:only-of-type {\n",
       "        vertical-align: middle;\n",
       "    }\n",
       "\n",
       "    .dataframe tbody tr th {\n",
       "        vertical-align: top;\n",
       "    }\n",
       "\n",
       "    .dataframe thead th {\n",
       "        text-align: right;\n",
       "    }\n",
       "</style>\n",
       "<table border=\"1\" class=\"dataframe\">\n",
       "  <thead>\n",
       "    <tr style=\"text-align: right;\">\n",
       "      <th></th>\n",
       "      <th>userid</th>\n",
       "      <th>movieid</th>\n",
       "    </tr>\n",
       "  </thead>\n",
       "  <tbody>\n",
       "    <tr>\n",
       "      <th>0</th>\n",
       "      <td>986634</td>\n",
       "      <td>samsara+2011</td>\n",
       "    </tr>\n",
       "    <tr>\n",
       "      <th>1</th>\n",
       "      <td>986634</td>\n",
       "      <td>my+favorite+wife+1940</td>\n",
       "    </tr>\n",
       "    <tr>\n",
       "      <th>2</th>\n",
       "      <td>986634</td>\n",
       "      <td>yojimbo+1961</td>\n",
       "    </tr>\n",
       "    <tr>\n",
       "      <th>3</th>\n",
       "      <td>986634</td>\n",
       "      <td>modern+times+1936</td>\n",
       "    </tr>\n",
       "    <tr>\n",
       "      <th>4</th>\n",
       "      <td>986634</td>\n",
       "      <td>the+shawshank+redemption+1994</td>\n",
       "    </tr>\n",
       "    <tr>\n",
       "      <th>...</th>\n",
       "      <td>...</td>\n",
       "      <td>...</td>\n",
       "    </tr>\n",
       "    <tr>\n",
       "      <th>64075</th>\n",
       "      <td>449859</td>\n",
       "      <td>citizenfour+2014</td>\n",
       "    </tr>\n",
       "    <tr>\n",
       "      <th>64076</th>\n",
       "      <td>449859</td>\n",
       "      <td>housebound+2014</td>\n",
       "    </tr>\n",
       "    <tr>\n",
       "      <th>64077</th>\n",
       "      <td>449859</td>\n",
       "      <td>from+the+earth+to+the+moon+1998</td>\n",
       "    </tr>\n",
       "    <tr>\n",
       "      <th>64078</th>\n",
       "      <td>449859</td>\n",
       "      <td>the+holy+mountain+1973</td>\n",
       "    </tr>\n",
       "    <tr>\n",
       "      <th>64079</th>\n",
       "      <td>449859</td>\n",
       "      <td>the+man+from+earth+2007</td>\n",
       "    </tr>\n",
       "  </tbody>\n",
       "</table>\n",
       "<p>64080 rows × 2 columns</p>\n",
       "</div>"
      ],
      "text/plain": [
       "       userid                          movieid\n",
       "0      986634                     samsara+2011\n",
       "1      986634            my+favorite+wife+1940\n",
       "2      986634                     yojimbo+1961\n",
       "3      986634                modern+times+1936\n",
       "4      986634    the+shawshank+redemption+1994\n",
       "...       ...                              ...\n",
       "64075  449859                 citizenfour+2014\n",
       "64076  449859                  housebound+2014\n",
       "64077  449859  from+the+earth+to+the+moon+1998\n",
       "64078  449859           the+holy+mountain+1973\n",
       "64079  449859          the+man+from+earth+2007\n",
       "\n",
       "[64080 rows x 2 columns]"
      ]
     },
     "execution_count": 6,
     "metadata": {},
     "output_type": "execute_result"
    }
   ],
   "source": [
    "data2"
   ]
  },
  {
   "cell_type": "markdown",
   "id": "cc6849bc",
   "metadata": {},
   "source": [
    "# 2. get user and movie info"
   ]
  },
  {
   "cell_type": "code",
   "execution_count": 7,
   "id": "75a59e38",
   "metadata": {},
   "outputs": [],
   "source": [
    "def get_user_info(x):\n",
    "    uid = x[\"userid\"]\n",
    "\n",
    "    res = requests.get(\"http://128.2.204.215:8080/user/%s\" %uid)\n",
    "    if res.status_code != 200:\n",
    "        print(uid, res.json())\n",
    "        return x\n",
    "    res = res.json()\n",
    "    x[\"user_age\"] = res[\"age\"]\n",
    "    x[\"user_occupation\"] = res[\"occupation\"]\n",
    "    x[\"user_gender\"] = res[\"gender\"]\n",
    "\n",
    "    return x\n",
    "\n",
    "\n",
    "def get_movie_info(x):\n",
    "    mid = x[\"movieid\"]\n",
    "        \n",
    "    res = requests.get(\"http://128.2.204.215:8080/movie/%s\" %mid)\n",
    "    if res.status_code != 200:\n",
    "        print(mid, res.json())\n",
    "        return x\n",
    "    res = res.json()\n",
    "    if len(res['genres']) > 0:\n",
    "        x[\"movie_genre\"] = res['genres'][0]['name']\n",
    "\n",
    "    return x"
   ]
  },
  {
   "cell_type": "code",
   "execution_count": 8,
   "id": "1c613230",
   "metadata": {},
   "outputs": [
    {
     "name": "stderr",
     "output_type": "stream",
     "text": [
      "100%|███████████████████████████████████████| 3223/3223 [01:07<00:00, 47.92it/s]\n",
      " 83%|██████████████████████████████████▏      | 778/934 [00:34<00:05, 27.92it/s]"
     ]
    },
    {
     "name": "stdout",
     "output_type": "stream",
     "text": [
      "milk+2008 {'message': 'movie not found'}\n"
     ]
    },
    {
     "name": "stderr",
     "output_type": "stream",
     "text": [
      "100%|█████████████████████████████████████████| 934/934 [00:39<00:00, 23.37it/s]\n"
     ]
    }
   ],
   "source": [
    "users1 = pd.DataFrame({'userid': data1.userid.unique()})\n",
    "movies1 = pd.DataFrame({'movieid': data1.movieid.unique()})\n",
    "\n",
    "users1 = users1.progress_apply(get_user_info, axis=1)\n",
    "movies1 = movies1.progress_apply(get_movie_info, axis=1)\n",
    "\n",
    "df1 = data1.merge(users1).merge(movies1)\n",
    "df1[\"movie_genre\"].fillna(\"None\", inplace=True)"
   ]
  },
  {
   "cell_type": "code",
   "execution_count": 15,
   "id": "bcf12d91",
   "metadata": {},
   "outputs": [
    {
     "name": "stderr",
     "output_type": "stream",
     "text": [
      "100%|███████████████████████████████████████| 3204/3204 [01:09<00:00, 45.96it/s]\n",
      "100%|█████████████████████████████████████████| 934/934 [00:35<00:00, 26.25it/s]"
     ]
    },
    {
     "name": "stdout",
     "output_type": "stream",
     "text": [
      "emma+1996 {'message': 'movie not found'}\n"
     ]
    },
    {
     "name": "stderr",
     "output_type": "stream",
     "text": [
      "\n"
     ]
    }
   ],
   "source": [
    "users2 = pd.DataFrame({'userid': data2.userid.unique()})\n",
    "movies2 = pd.DataFrame({'movieid': data2.movieid.unique()})\n",
    "\n",
    "users2 = users2.progress_apply(get_user_info, axis=1)\n",
    "movies2 = movies2.progress_apply(get_movie_info, axis=1)\n",
    "\n",
    "df2 = data2.merge(users2).merge(movies2)\n",
    "df2[\"movie_genre\"].fillna(\"None\", inplace=True)"
   ]
  },
  {
   "cell_type": "code",
   "execution_count": 20,
   "id": "ec20e1cb",
   "metadata": {},
   "outputs": [
    {
     "data": {
      "text/html": [
       "<div>\n",
       "<style scoped>\n",
       "    .dataframe tbody tr th:only-of-type {\n",
       "        vertical-align: middle;\n",
       "    }\n",
       "\n",
       "    .dataframe tbody tr th {\n",
       "        vertical-align: top;\n",
       "    }\n",
       "\n",
       "    .dataframe thead th {\n",
       "        text-align: right;\n",
       "    }\n",
       "</style>\n",
       "<table border=\"1\" class=\"dataframe\">\n",
       "  <thead>\n",
       "    <tr style=\"text-align: right;\">\n",
       "      <th></th>\n",
       "      <th>userid</th>\n",
       "      <th>movieid</th>\n",
       "      <th>user_age</th>\n",
       "      <th>user_occupation</th>\n",
       "      <th>user_gender</th>\n",
       "      <th>movie_genre</th>\n",
       "    </tr>\n",
       "  </thead>\n",
       "  <tbody>\n",
       "    <tr>\n",
       "      <th>7655</th>\n",
       "      <td>23547</td>\n",
       "      <td>tender+mercies+1983</td>\n",
       "      <td>25</td>\n",
       "      <td>college/grad student</td>\n",
       "      <td>M</td>\n",
       "      <td>Drama</td>\n",
       "    </tr>\n",
       "    <tr>\n",
       "      <th>9755</th>\n",
       "      <td>652549</td>\n",
       "      <td>housebound+2014</td>\n",
       "      <td>22</td>\n",
       "      <td>homemaker</td>\n",
       "      <td>M</td>\n",
       "      <td>Horror</td>\n",
       "    </tr>\n",
       "    <tr>\n",
       "      <th>23405</th>\n",
       "      <td>725691</td>\n",
       "      <td>the+testament+of+dr.+mabuse+1933</td>\n",
       "      <td>29</td>\n",
       "      <td>self-employed</td>\n",
       "      <td>M</td>\n",
       "      <td>Crime</td>\n",
       "    </tr>\n",
       "    <tr>\n",
       "      <th>8093</th>\n",
       "      <td>921999</td>\n",
       "      <td>the+lady+vanishes+1938</td>\n",
       "      <td>32</td>\n",
       "      <td>homemaker</td>\n",
       "      <td>M</td>\n",
       "      <td>Mystery</td>\n",
       "    </tr>\n",
       "    <tr>\n",
       "      <th>60824</th>\n",
       "      <td>759372</td>\n",
       "      <td>the+wizard+of+oz+1939</td>\n",
       "      <td>25</td>\n",
       "      <td>writer</td>\n",
       "      <td>F</td>\n",
       "      <td>Adventure</td>\n",
       "    </tr>\n",
       "  </tbody>\n",
       "</table>\n",
       "</div>"
      ],
      "text/plain": [
       "       userid                           movieid  user_age  \\\n",
       "7655    23547               tender+mercies+1983        25   \n",
       "9755   652549                   housebound+2014        22   \n",
       "23405  725691  the+testament+of+dr.+mabuse+1933        29   \n",
       "8093   921999            the+lady+vanishes+1938        32   \n",
       "60824  759372             the+wizard+of+oz+1939        25   \n",
       "\n",
       "            user_occupation user_gender movie_genre  \n",
       "7655   college/grad student           M       Drama  \n",
       "9755              homemaker           M      Horror  \n",
       "23405         self-employed           M       Crime  \n",
       "8093              homemaker           M     Mystery  \n",
       "60824                writer           F   Adventure  "
      ]
     },
     "execution_count": 20,
     "metadata": {},
     "output_type": "execute_result"
    }
   ],
   "source": [
    "df1.sample(5)"
   ]
  },
  {
   "cell_type": "markdown",
   "id": "03b76ef9",
   "metadata": {},
   "source": [
    "# 3. Gender Bias Analysis on data1"
   ]
  },
  {
   "cell_type": "code",
   "execution_count": 22,
   "id": "ea395c20",
   "metadata": {},
   "outputs": [
    {
     "data": {
      "text/plain": [
       "M    53560\n",
       "F    10900\n",
       "Name: user_gender, dtype: int64"
      ]
     },
     "execution_count": 22,
     "metadata": {},
     "output_type": "execute_result"
    }
   ],
   "source": [
    "df1.user_gender.value_counts()"
   ]
  },
  {
   "cell_type": "code",
   "execution_count": 64,
   "id": "f90834ea",
   "metadata": {
    "scrolled": true
   },
   "outputs": [],
   "source": [
    "tmp = df1.groupby([\"user_gender\", \"movie_genre\"])[[\"movieid\"]].count().reset_index()\n",
    "tmp1 = tmp[tmp.user_gender==\"M\"].rename(columns={\"movieid\":\"M_count\"})\n",
    "tmp2 = tmp[tmp.user_gender==\"F\"].rename(columns={\"movieid\":\"F_count\"})\n",
    "tmp3 = pd.merge(tmp1[[\"movie_genre\", \"M_count\"]], tmp2[[\"movie_genre\", \"F_count\"]], how=\"outer\", on=\"movie_genre\")"
   ]
  },
  {
   "cell_type": "code",
   "execution_count": 51,
   "id": "674aed84",
   "metadata": {
    "scrolled": true
   },
   "outputs": [
    {
     "data": {
      "text/html": [
       "<div>\n",
       "<style scoped>\n",
       "    .dataframe tbody tr th:only-of-type {\n",
       "        vertical-align: middle;\n",
       "    }\n",
       "\n",
       "    .dataframe tbody tr th {\n",
       "        vertical-align: top;\n",
       "    }\n",
       "\n",
       "    .dataframe thead th {\n",
       "        text-align: right;\n",
       "    }\n",
       "</style>\n",
       "<table border=\"1\" class=\"dataframe\">\n",
       "  <thead>\n",
       "    <tr style=\"text-align: right;\">\n",
       "      <th></th>\n",
       "      <th>movie_genre</th>\n",
       "      <th>M_count</th>\n",
       "      <th>F_count</th>\n",
       "    </tr>\n",
       "  </thead>\n",
       "  <tbody>\n",
       "    <tr>\n",
       "      <th>0</th>\n",
       "      <td>Action</td>\n",
       "      <td>2312</td>\n",
       "      <td>425</td>\n",
       "    </tr>\n",
       "    <tr>\n",
       "      <th>1</th>\n",
       "      <td>Adventure</td>\n",
       "      <td>2602</td>\n",
       "      <td>528</td>\n",
       "    </tr>\n",
       "    <tr>\n",
       "      <th>2</th>\n",
       "      <td>Animation</td>\n",
       "      <td>1226</td>\n",
       "      <td>270</td>\n",
       "    </tr>\n",
       "    <tr>\n",
       "      <th>3</th>\n",
       "      <td>Comedy</td>\n",
       "      <td>6784</td>\n",
       "      <td>1359</td>\n",
       "    </tr>\n",
       "    <tr>\n",
       "      <th>4</th>\n",
       "      <td>Crime</td>\n",
       "      <td>2391</td>\n",
       "      <td>507</td>\n",
       "    </tr>\n",
       "    <tr>\n",
       "      <th>5</th>\n",
       "      <td>Documentary</td>\n",
       "      <td>5181</td>\n",
       "      <td>1058</td>\n",
       "    </tr>\n",
       "    <tr>\n",
       "      <th>6</th>\n",
       "      <td>Drama</td>\n",
       "      <td>26218</td>\n",
       "      <td>5370</td>\n",
       "    </tr>\n",
       "    <tr>\n",
       "      <th>7</th>\n",
       "      <td>Family</td>\n",
       "      <td>97</td>\n",
       "      <td>23</td>\n",
       "    </tr>\n",
       "    <tr>\n",
       "      <th>8</th>\n",
       "      <td>Fantasy</td>\n",
       "      <td>1130</td>\n",
       "      <td>219</td>\n",
       "    </tr>\n",
       "    <tr>\n",
       "      <th>9</th>\n",
       "      <td>History</td>\n",
       "      <td>181</td>\n",
       "      <td>35</td>\n",
       "    </tr>\n",
       "    <tr>\n",
       "      <th>10</th>\n",
       "      <td>Horror</td>\n",
       "      <td>2142</td>\n",
       "      <td>440</td>\n",
       "    </tr>\n",
       "    <tr>\n",
       "      <th>11</th>\n",
       "      <td>Music</td>\n",
       "      <td>31</td>\n",
       "      <td>4</td>\n",
       "    </tr>\n",
       "    <tr>\n",
       "      <th>12</th>\n",
       "      <td>Mystery</td>\n",
       "      <td>720</td>\n",
       "      <td>139</td>\n",
       "    </tr>\n",
       "    <tr>\n",
       "      <th>13</th>\n",
       "      <td>None</td>\n",
       "      <td>77</td>\n",
       "      <td>28</td>\n",
       "    </tr>\n",
       "    <tr>\n",
       "      <th>14</th>\n",
       "      <td>Romance</td>\n",
       "      <td>425</td>\n",
       "      <td>80</td>\n",
       "    </tr>\n",
       "    <tr>\n",
       "      <th>15</th>\n",
       "      <td>Science Fiction</td>\n",
       "      <td>281</td>\n",
       "      <td>42</td>\n",
       "    </tr>\n",
       "    <tr>\n",
       "      <th>16</th>\n",
       "      <td>TV Movie</td>\n",
       "      <td>23</td>\n",
       "      <td>5</td>\n",
       "    </tr>\n",
       "    <tr>\n",
       "      <th>17</th>\n",
       "      <td>Thriller</td>\n",
       "      <td>865</td>\n",
       "      <td>191</td>\n",
       "    </tr>\n",
       "    <tr>\n",
       "      <th>18</th>\n",
       "      <td>War</td>\n",
       "      <td>732</td>\n",
       "      <td>154</td>\n",
       "    </tr>\n",
       "    <tr>\n",
       "      <th>19</th>\n",
       "      <td>Western</td>\n",
       "      <td>142</td>\n",
       "      <td>23</td>\n",
       "    </tr>\n",
       "  </tbody>\n",
       "</table>\n",
       "</div>"
      ],
      "text/plain": [
       "        movie_genre  M_count  F_count\n",
       "0            Action     2312      425\n",
       "1         Adventure     2602      528\n",
       "2         Animation     1226      270\n",
       "3            Comedy     6784     1359\n",
       "4             Crime     2391      507\n",
       "5       Documentary     5181     1058\n",
       "6             Drama    26218     5370\n",
       "7            Family       97       23\n",
       "8           Fantasy     1130      219\n",
       "9           History      181       35\n",
       "10           Horror     2142      440\n",
       "11            Music       31        4\n",
       "12          Mystery      720      139\n",
       "13             None       77       28\n",
       "14          Romance      425       80\n",
       "15  Science Fiction      281       42\n",
       "16         TV Movie       23        5\n",
       "17         Thriller      865      191\n",
       "18              War      732      154\n",
       "19          Western      142       23"
      ]
     },
     "execution_count": 51,
     "metadata": {},
     "output_type": "execute_result"
    }
   ],
   "source": [
    "tmp3"
   ]
  },
  {
   "cell_type": "code",
   "execution_count": 60,
   "id": "5df44562",
   "metadata": {
    "scrolled": false
   },
   "outputs": [
    {
     "data": {
      "image/png": "[encoded data removed]",
      "text/plain": [
       "<Figure size 1000x500 with 1 Axes>"
      ]
     },
     "metadata": {},
     "output_type": "display_data"
    }
   ],
   "source": [
    "## genre and gender\n",
    "M_sum = tmp3.M_count.sum()\n",
    "F_sum = tmp3.F_count.sum()\n",
    "\n",
    "x = np.arange(len(tmp3.movie_genre))  # the label locations\n",
    "width = 0.35       # the width of the bars: can also be len(x) sequence\n",
    "\n",
    "x1 = tmp[tmp.user_gender==\"M\"][\"movie_genre\"]\n",
    "y1 = tmp[tmp.user_gender==\"M\"][\"movieid\"]\n",
    "\n",
    "fig, ax = plt.subplots(figsize=(10,5))\n",
    "\n",
    "rects1 = ax.bar(x - width/2, tmp3.M_count/M_sum, width, label='Men')\n",
    "rects2 = ax.bar(x + width/2, tmp3.F_count/F_sum, width, label='Women')\n",
    "\n",
    "# plt.xticks(rotation=40)\n",
    "ax.set_xticks(x, tmp3.movie_genre, rotation=40)\n",
    "ax.set_ylabel('Recommendation Ratio')\n",
    "ax.set_title('Recommendataion Genre Ratio by gender')\n",
    "ax.legend()\n",
    "\n",
    "fig.tight_layout()\n",
    "\n",
    "plt.show()"
   ]
  },
  {
   "cell_type": "markdown",
   "id": "861c6eb1",
   "metadata": {},
   "source": [
    "# 4. Gender Bias Analysis on data2"
   ]
  },
  {
   "cell_type": "code",
   "execution_count": 62,
   "id": "f2f0f7d3",
   "metadata": {},
   "outputs": [],
   "source": [
    "tmp_ = df2.groupby([\"user_gender\", \"movie_genre\"])[[\"movieid\"]].count().reset_index()\n",
    "tmp1_ = tmp_[tmp_.user_gender==\"M\"].rename(columns={\"movieid\":\"M_count\"})\n",
    "tmp2_ = tmp_[tmp_.user_gender==\"F\"].rename(columns={\"movieid\":\"F_count\"})\n",
    "tmp3_ = pd.merge(tmp1_[[\"movie_genre\", \"M_count\"]], tmp2_[[\"movie_genre\", \"F_count\"]], how=\"outer\", on=\"movie_genre\")"
   ]
  },
  {
   "cell_type": "code",
   "execution_count": 63,
   "id": "c02cc82c",
   "metadata": {},
   "outputs": [
    {
     "data": {
      "image/png": "[encoded data removed]",
      "text/plain": [
       "<Figure size 1000x500 with 1 Axes>"
      ]
     },
     "metadata": {},
     "output_type": "display_data"
    }
   ],
   "source": [
    "## genre and gender\n",
    "M_sum = tmp3_.M_count.sum()\n",
    "F_sum = tmp3_.F_count.sum()\n",
    "\n",
    "x = np.arange(len(tmp3_.movie_genre))  # the label locations\n",
    "width = 0.35       # the width of the bars: can also be len(x) sequence\n",
    "\n",
    "x1 = tmp_[tmp_.user_gender==\"M\"][\"movie_genre\"]\n",
    "y1 = tmp_[tmp_.user_gender==\"M\"][\"movieid\"]\n",
    "\n",
    "fig, ax = plt.subplots(figsize=(10,5))\n",
    "\n",
    "rects1 = ax.bar(x - width/2, tmp3_.M_count/M_sum, width, label='Men')\n",
    "rects2 = ax.bar(x + width/2, tmp3_.F_count/F_sum, width, label='Women')\n",
    "\n",
    "# plt.xticks(rotation=40)\n",
    "ax.set_xticks(x, tmp3_.movie_genre, rotation=40)\n",
    "ax.set_ylabel('Recommendation Ratio')\n",
    "ax.set_title('Recommendataion Genre Ratio by gender')\n",
    "ax.legend()\n",
    "\n",
    "fig.tight_layout()\n",
    "\n",
    "plt.show()"
   ]
  },
  {
   "cell_type": "code",
   "execution_count": null,
   "id": "ef670d04",
   "metadata": {},
   "outputs": [],
   "source": []
  },
  {
   "cell_type": "code",
   "execution_count": null,
   "id": "92e9e7fd",
   "metadata": {},
   "outputs": [],
   "source": []
  }
 ],
 "metadata": {
  "kernelspec": {
   "display_name": "Python 3 (ipykernel)",
   "language": "python",
   "name": "python3"
  },
  "language_info": {
   "codemirror_mode": {
    "name": "ipython",
    "version": 3
   },
   "file_extension": ".py",
   "mimetype": "text/x-python",
   "name": "python",
   "nbconvert_exporter": "python",
   "pygments_lexer": "ipython3",
   "version": "3.8.16"
  }
 },
 "nbformat": 4,
 "nbformat_minor": 5
}
